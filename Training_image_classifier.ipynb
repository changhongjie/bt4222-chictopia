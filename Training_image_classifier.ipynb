{
 "cells": [
  {
   "cell_type": "markdown",
   "metadata": {
    "colab_type": "text",
    "id": "Lg_TOXvTs1tG"
   },
   "source": [
    "Code template for simple fully connected CNN for baseline:"
   ]
  },
  {
   "cell_type": "code",
   "execution_count": 1,
   "metadata": {
    "colab": {
     "base_uri": "https://localhost:8080/",
     "height": 35
    },
    "colab_type": "code",
    "id": "v7Z5fyz7uztD",
    "outputId": "7a21baca-03af-44a8-e1cc-29fadb72435d"
   },
   "outputs": [
    {
     "name": "stderr",
     "output_type": "stream",
     "text": [
      "Using TensorFlow backend.\n"
     ]
    }
   ],
   "source": [
    "import cv2\n",
    "import numpy as np\n",
    "import pandas as pd\n",
    "# import matplotlib.pyplot as plt\n",
    "\n",
    "from keras.preprocessing.image import ImageDataGenerator\n",
    "from keras import optimizers\n",
    "from keras.models import Sequential, Model \n",
    "from keras.layers import Dropout, Flatten, Dense, Conv2D, MaxPooling2D, BatchNormalization, GlobalAveragePooling2D\n",
    "from keras.callbacks import ModelCheckpoint, LearningRateScheduler, TensorBoard, EarlyStopping"
   ]
  },
  {
   "cell_type": "code",
   "execution_count": 0,
   "metadata": {
    "colab": {},
    "colab_type": "code",
    "id": "1vrpqWiIthzV"
   },
   "outputs": [],
   "source": [
    "# preprocess reference_df, should probably save this as the csv instead\n",
    "reference_df = pd.read_csv('./drive/My Drive/BT4222/dress_info_0to10k.csv')\n",
    "reference_df['name'] = reference_df['name'].apply(lambda x: x + '.jpg')\n",
    "reference_df['vote'] = reference_df['vote'].str.extract('(\\d+)', expand=False)\\\n",
    "                                            .astype(int).fillna(0)\\\n",
    "                                            .transform(np.log)\n",
    "#                                             .transform(lambda x: (x - x.min()) / (x.max() - x.min())) # minmax scale\n",
    "reference_df.fans = reference_df.fans.fillna(0.0)\n",
    "reference_df.tags = reference_df.tags.fillna('np.nan').apply(eval)"
   ]
  },
  {
   "cell_type": "code",
   "execution_count": 0,
   "metadata": {
    "colab": {},
    "colab_type": "code",
    "id": "SFW5-RzAWQmQ"
   },
   "outputs": [],
   "source": [
    "pd.DataFrame(history.history).plot.line()"
   ]
  },
  {
   "cell_type": "markdown",
   "metadata": {
    "colab_type": "text",
    "id": "dlCb9vEGLPb8"
   },
   "source": [
    "TODO: Partition a test set (or simply scrape another few k) and evaluate with sklearn metrics"
   ]
  },
  {
   "cell_type": "markdown",
   "metadata": {
    "colab_type": "text",
    "id": "7uD3IZyOTTE7"
   },
   "source": [
    "# Clustering of tags - [link](https://www.reddit.com/r/IdleHeroes/comments/b3nga6/guide_early_game_e3_guide_v4/)"
   ]
  },
  {
   "cell_type": "code",
   "execution_count": 0,
   "metadata": {
    "colab": {
     "base_uri": "https://localhost:8080/",
     "height": 1058
    },
    "colab_type": "code",
    "id": "osysjA0-TaZB",
    "outputId": "44de8559-3d4c-40f6-cd8c-7d77e5182ad2"
   },
   "outputs": [
    {
     "data": {
      "text/plain": [
       "Everyday                     2966\n",
       "summer                       2886\n",
       "Chic                         2557\n",
       "spring                       2229\n",
       "fall                         2014\n",
       "Summer                       1501\n",
       "winter                       1391\n",
       "Casual                        930\n",
       "Bohemian                      896\n",
       "Romantic                      707\n",
       "Elegant                       687\n",
       "Dinner Date                   626\n",
       "Classic                       593\n",
       "Brunch                        581\n",
       "Vintage                       416\n",
       "Casual Party                  376\n",
       "Cocktail                      360\n",
       "Other                         334\n",
       "Trendy                        328\n",
       "Lunch Date                    313\n",
       "Going Out With Friends        296\n",
       "Dinner Party                  292\n",
       "Comfortable                   278\n",
       "Work                          236\n",
       "Eclectic                      217\n",
       "Photo Shoot                   214\n",
       "Holiday Party                 213\n",
       "Urban                         208\n",
       "Fashion Show                  201\n",
       "Art Opening                   187\n",
       "                             ... \n",
       "blog de moda                    1\n",
       "kawaii                          1\n",
       "blacknred                       1\n",
       "minidress                       1\n",
       "ee                              1\n",
       "sakura                          1\n",
       "waistcoat                       1\n",
       "flippy in floral                1\n",
       "summer chic                     1\n",
       "stripe                          1\n",
       "autumn win                      1\n",
       "safari thursday                 1\n",
       "dungarees                       1\n",
       "polka dots                      1\n",
       "fairytale                       1\n",
       "spring 2014                     1\n",
       "audrey hepburn                  1\n",
       "flappper                        1\n",
       "minimal chic                    1\n",
       "baseball cap                    1\n",
       "midi                            1\n",
       "leopard print                   1\n",
       "indian designer                 1\n",
       "bell shape                      1\n",
       "plaid dress                     1\n",
       "pink sweetness                  1\n",
       "white black train               1\n",
       "high profile escorts c...       1\n",
       "silhouette                      1\n",
       "cross                           1\n",
       "Length: 801, dtype: int64"
      ]
     },
     "execution_count": 6,
     "metadata": {
      "tags": []
     },
     "output_type": "execute_result"
    }
   ],
   "source": [
    "tag_counts = pd.Series(reference_df.tags.fillna('-').apply(list).sum()).value_counts()#[:10] # top 10 most popular tags"
   ]
  },
  {
   "cell_type": "code",
   "execution_count": 0,
   "metadata": {
    "colab": {},
    "colab_type": "code",
    "id": "9SJZ-R_vUZ_o"
   },
   "outputs": [],
   "source": [
    "vc = pd.Series(reference_df.tags.fillna('-').apply(list).sum()).value_counts() #if you remove all those tags with only 1 instance, number of tags reduce from 801 to 294\n"
   ]
  },
  {
   "cell_type": "code",
   "execution_count": 0,
   "metadata": {
    "colab": {
     "base_uri": "https://localhost:8080/",
     "height": 35
    },
    "colab_type": "code",
    "id": "ye4Gki-ZbJ87",
    "outputId": "c88b8551-4529-4f7a-b197-171bd83d861a"
   },
   "outputs": [
    {
     "data": {
      "text/plain": [
       "0.05000476841402549"
      ]
     },
     "execution_count": 22,
     "metadata": {
      "tags": []
     },
     "output_type": "execute_result"
    }
   ],
   "source": [
    "vc[vc<23].sum() / vc.sum()"
   ]
  },
  {
   "cell_type": "code",
   "execution_count": 0,
   "metadata": {
    "colab": {
     "base_uri": "https://localhost:8080/",
     "height": 348
    },
    "colab_type": "code",
    "id": "5kBfl5HxaN0o",
    "outputId": "a7cc124f-141e-4ee7-bab2-0bfc930d8dfa"
   },
   "outputs": [
    {
     "data": {
      "text/plain": [
       "<matplotlib.axes._subplots.AxesSubplot at 0x7fc8c5bc7860>"
      ]
     },
     "execution_count": 24,
     "metadata": {
      "tags": []
     },
     "output_type": "execute_result"
    },
    {
     "data": {
      "image/png": "[encoded data removed]",
      "text/plain": [
       "<Figure size 576x396 with 1 Axes>"
      ]
     },
     "metadata": {
      "tags": []
     },
     "output_type": "display_data"
    }
   ],
   "source": [
    "vc[vc>23].plot()"
   ]
  },
  {
   "cell_type": "code",
   "execution_count": 0,
   "metadata": {
    "colab": {},
    "colab_type": "code",
    "id": "ybiJSBxqdrCb"
   },
   "outputs": [],
   "source": [
    "tags_to_keep = vc[vc>23].index.tolist()"
   ]
  },
  {
   "cell_type": "code",
   "execution_count": 0,
   "metadata": {
    "colab": {
     "base_uri": "https://localhost:8080/",
     "height": 35
    },
    "colab_type": "code",
    "id": "9Hp71_c8dvlB",
    "outputId": "dd6e2fc5-85f4-435a-f355-9d968f7b29fd"
   },
   "outputs": [
    {
     "data": {
      "text/plain": [
       "88"
      ]
     },
     "execution_count": 27,
     "metadata": {
      "tags": []
     },
     "output_type": "execute_result"
    }
   ],
   "source": [
    "len(tags_to_keep)"
   ]
  },
  {
   "cell_type": "markdown",
   "metadata": {
    "colab_type": "text",
    "id": "Tf4yT_RIeEFy"
   },
   "source": [
    "# NLP part"
   ]
  },
  {
   "cell_type": "code",
   "execution_count": 0,
   "metadata": {
    "colab": {
     "base_uri": "https://localhost:8080/",
     "height": 34
    },
    "colab_type": "code",
    "id": "nhQbiCE_-EN6",
    "outputId": "284fc2c7-b82d-4e50-c748-543868f236db"
   },
   "outputs": [
    {
     "name": "stdout",
     "output_type": "stream",
     "text": [
      "(801,)\n"
     ]
    }
   ],
   "source": [
    "tag_lists = pd.Series(reference_df.tags.fillna('-').apply(list).sum()).unique()\n",
    "print(tag_lists.shape)"
   ]
  },
  {
   "cell_type": "code",
   "execution_count": 0,
   "metadata": {
    "colab": {
     "base_uri": "https://localhost:8080/",
     "height": 121
    },
    "colab_type": "code",
    "id": "wEnHlBdGBJI_",
    "outputId": "34de796c-6b2c-4a4c-ea7d-159d06765be4"
   },
   "outputs": [
    {
     "name": "stdout",
     "output_type": "stream",
     "text": [
      "Chic. Blind Date. spring. Bohemian. Dinner Date. Everyday. Summer. Androgynous. Casual Party. fall. Rocker. Clubbing. 50s. Wedding. Other. Retro. Movie night. Brunch. summer. Romantic. Cocktail. 12. The Fair. Casual. winter. Shopping. inspiration. flippy in floral. Elegant. Fashion Show. Eclectic. 80s. Vintage. Vacation. Classic. Going Out With Friends. Trendy. 60s. Work. Dinner Party. Graduation. cute. so chic. Sexy. Lunch Date. 90s. Baby Shower. Art Opening. nice. Punk. BBQ Party. lace. Holiday Party. Preppy. First Date. Picnic. sunday breeze romantic. Bachelorette Party. Birthday. Beach. white. Formal. Wine Tasting. School. Comfortable. Traveling. 70s. Boot Style. Valentine's Day. yellow. Outdoor. Business Casual. Photo Shoot. Girls Night Out. comfortable party shoes. dress. Prom. Denim. Urban. Romantic Dinner. Goth. mmmmmmmmmmmmmmmm. Farmer's Market. prom. bohemian. Work Happy Hour. Theatre/Opera/Symphony. Maternity. Hippie. gray. DIY. diy. Kipling Make Happy. sakura. legal. red. Natural. hol. Basic. Business. over the knee. thigh high boots. overalls. vintage. blouse. Cotton Look. biker jacket. Geek. ksubi dress. Modest. Conference. work. Dynamite Style Contest. yellow and gray. Sneaker. biz. Bridal Shower. Anniversary. Amusement Park. black. Grandma. classy. sophisticated. pink. -. spring 2014. Company Event. fashion. peep toe. party jacket. Museum Outing. gold. sheer. Shopping Date. awesome. fairy. Sports. peter pilotto. shift dress. PINK Spring Break. Pool Party. swimsuit. clean. minimal. minimal chic. black cape. electric pink. leather jacket. Music Concert. puherock. Walking The Dog. radiant orchid. wnat. Leather. fringe. gingham. no5. plaid contrast monochrome. Throwback 2013. blue. the mermaid dress. sweet. cat. stripes. japan. favorite. dungarees. sleeveless. sleveless. ok. SHAPEMATTERS. very beautiful. Rave. dressy. spring-summer. dress on dress. layers. dream date. elegant. floral. cosmic. portland. knit. white snow. black lace. wedidng. wedding. holiday. holiday\r\n",
      "lulus. angles. coat. boots. dark. burgandy. formal. hourglass. black and white. silhouette. maxi dress. florals. cute dress. hair. f. navy boyfriend cardigan. vest dress. color crush nude. don biu. Runway. onk. feminine. Internship. love. Game Day. red dress. chic. sexy. 美女. dinner date. girly. flirty. some kind of ballerina. vesper dresses. smashbox. dolce. tropical. smock and tights. オフショル. grunge and florals. white bobbysocks. leather. printed dress nude blazer. dress chicwish ootd fa.... killer heels. the red shoes. фиолет и красны. denim. presidential. simple. crochet top. maxi. tropical prints. fuzzy. cute frill  pastel   s.... nive. handbag. printed. pretty pleats. edgy. checked dress. inspiration - dressy. Out with the Old, Bling in the New. dolce gabbana. dd. gemma. dresses. Spring Break Contest. glasses. jacket. mint. adorable. streetstyle. flowers dress. zara. brown. white dress. vestido. fav. romantic. 16. 7. so pretty. o. ombre. wish that were my hair. babydoll. light. Gym. Boys Night Out. color. party. trendylegs. wow this is incredible. ee. picture. buna. Dancing In Florals Contest. cardigan. charlotte clothier. dolce gabbana ss14. cool bee. autumn. outfits. autumn win. prada. boho edgy. boho. glass. green dress. 2014. updated on jun 02. polka dot summer. blacknred. pink sweetness. nice white high heel s.... love this socute. russian papaha. vintage floral dress. kimono. tshirt dress. through the cabin door. over the knee boots. mini dress; thigh high.... todo. Hiking. i. blockcheck. crocheted. very nice. flowery dress. blair waldorf. black dress. lace dress. very very veryyy nice. oranges  polka dots. jelly sandals. casual. plaid dress. striped. blazer. royal blue. hats. black tights. patterned dress. booties. Valentine's Day Date. jenni chi. stockings. knit dress. summer combo denim  lace. lapel. tights. 11. sport. audrey hepburn. nicee. post. white walker. fairytale. <3. the gallery dress. skirt. peter pilotto sweatshirt. leopard coat. jcpenny. Menswear. mustard tights. halloween. tartan dress. circle skirt. debut. blue halter. style. the black lace dress. cross. jollychic. classic amerciana. nude shoes. thigh highs. gorgeous. pretty location. cut-out. Interview. bell shape. demin. electric blue. denim jacket. heels. jumper. mini dress. sandals. el blog de silvia. wow. festival. platinumblond. blog de moda. great gasby. pastel. jean jacket. she’s an apple pie. pink dress. just pretty. shift. 3-4 sleeves. new look. diner. scene. leopard. green. shoes. red lace dress. flowers. zara dress. magic. boyfriend coat. stripe. sheinside. so white\r\n",
      "\r\n",
      "so white. so white. beach. bb. lovely. 50ies. glam. palm springs. беж и бел. adoreloyalist ethnicity. amazing. hh. Music Festival Fashion. pretty. long dress. dark green. monkeys. monochrome. pleats. フレンチ. no4. i love it. ryan chua. love love lovelove. neon. floral headband. metallic trend. all in black hat. mod. inspo. best of chictopia. like. 70s inspiration. check. all white. christmas. hairstyles. prints. checkered. cotton. Date Night Contest. mono. shoulda let you go. sweaters. Coach Timeless Love. blues. plaid. walk a-line. kimono dress. glitter. layering. so classy you look lik.... baroque. opulent. gold black. boho chic. casyal. east of eden. sensiblestylista. statement necklace. midi. birkenstock. that dress fits you so.... marzia. militaristic leather. i love the back of thi.... floral and grunge. カジュアル. christmas dress. bobbysocks. key. delicate. my birthday. stanlice accessories. christmas magic. flower print. canadian tux. berlin. classic. snerkers. perfect. scarf. tights belted. evergreen dress. pleated dress. Summer Prints Contest. mustard. fun. inspiration - autumn. no one should take the.... festival look. love that dress. chic; black. argyle dress. sheer tights. floral dress. print. sequin. high top sneakers. happy in pink. retlo. rose. black and white stripe.... beige. multicolor. army. hot. pleated. beautiful. missoni. charol. normcore. Love Music Fashion Contest. this dress really is e.... girl. careenl. Red White & Blue. lavender. 1990s. dark 30s. lbd. beret. school. hot outfit. wide brim hat. jackieo. retro. 1. long socks. pastel and black. hm. flapper girl. diana. cold. winter cas-print dress. loafers. stunning simplicity. losing sleep. minidress. pic. hat. goofy skirt. cute fit. black lillies. so pretty look. legwear. preppy elegant. everyday. amazing dress. embroidered. summer-springdress. lovely flowing summer .... black anda jeans jaket. warehouse. ao. love the effortless lo.... sensual. paris. mrs pomeranz. london. cut it out. gothic. 9167133535. indian escort in chennai. escort in chennai. bold  timeless. indian designer. crinoline. indian. short dress. floral jacket. blask. wedding dress. dinner at ramsays. nice floral print dress. green drama. n1. elegance. love your dress. inspirations. vibrant touches. safari thursday. pinkcoat. super coat. propuesta indecente. boy. summer chic. hippy. grey. everything. primary colors. christmas eve lbd. the striped dress. burberry. street style. hair love. casual ware. 6. oh. kawaii. tokyo. la_carmina. navy. shirtdress. mustard dress. patterned button up. i love this. backround love. witch. rock. litle black cress. sexy suit. розовы и сини. velvet daisies. coats. mermaid. summer minima. pearl. socks. white black train. lacd. girly; classy; casual. high profile escorts c.... sun hat. crochet. grunge. white black. romper. love this. фиолет и беж. black leather. sugarcute. dusk. bubbly. prep. spring is in the air. peplum done right. orange revolution. 1920s. vest. chemistry. magical. pink metal. flower dress. tights and big sweater. blue summer midi dress. fashion for ladies. blue lapel. fashion for teens. want it now. hi lo. relaxed blazer. inception. snow white. urban. target. lookbookstore. matching friends. choker. lacarmina goth hair. as always. super pretty. zebra dress. 50 Shades of Leather. wb. summer tights. miss grey. lady in black. hoodie. pale pink. fresh. beanie hat. black tunic tshirt ins.... music festival. Magic Mirror. whimsical. Show Us Your Sole. buttons. pastels. love the combinations .... art. Naughty or Nice. daisy crown. bag. flatforms. colorful. minimalism. Spring Bloom. lips. candy stripes. natural. soft. midwestern. round glasses. mix patterns. colors. so perfectt. all black. lady. chiffon. nye. sweater dress. texture. galaxy. denim bds. literary. ruffles. gogo. rock chic. europe cruise. flappper. scholastic. mirror print. overall. nice white sandal. nude. zigzag. chambray. knee high socks. stylish. goth. denim dress. cobalt blue bag. black boyfriend cardigan. comic print. all time faavvoooriitee. rock and roll. photography. vacation. highsocks. total love for this la.... polka dots. white bobby socks. love your style. gosh. dots. velvet. office. tonu. hot pink tights. Endless Summer. sheer designer pantyhose. gritty. leopard print. statement jewelry. <3<3<3<3 preppy or hip.... preppy or hip. waistcoat. eiffel tower. kjole. veske. sailor dress. fritid. transparent black. foarte frumoasa. x. graphic tee. forest green. Get Your Kicks. converse. sneakers. playful girly boy outfit. vest w dress. lace oxblood dress. floral crown. try this with my colours. pop. høst. grønn. leggins. maroon. very good. ins. 90s clueless. leather weather. rose gold. night gown. dutch. silk. teapot. bodycon. skater skirt. border. backless. snickers. baseball cap. w-o the boots. hippie. tea dress. leather bag. quirky. gatsby. nice combo. blue sneakers dress le.... crop top.\n",
      "Number of tags: 801\n"
     ]
    }
   ],
   "source": [
    "list_tag = tag_lists[0] + \".\"\n",
    "count=1\n",
    "\n",
    "for i in range(len(tag_lists)-1):\n",
    "  string = tag_lists[i+1]\n",
    "  list_tag = list_tag + \" \" + string + \".\"\n",
    "  count+=1\n",
    "  \n",
    "print(list_tag)\n",
    "print(\"Number of tags: \"+ str(count))"
   ]
  },
  {
   "cell_type": "code",
   "execution_count": 0,
   "metadata": {
    "colab": {},
    "colab_type": "code",
    "id": "3an8tfgkIBZd"
   },
   "outputs": [],
   "source": [
    "doc1 = nlp(list_tag)"
   ]
  },
  {
   "cell_type": "code",
   "execution_count": 0,
   "metadata": {
    "colab": {
     "base_uri": "https://localhost:8080/",
     "height": 34
    },
    "colab_type": "code",
    "id": "s_2thU8KIydm",
    "outputId": "2a99fdec-34b3-4cde-de2a-d6be9cb5a59c"
   },
   "outputs": [
    {
     "name": "stdout",
     "output_type": "stream",
     "text": [
      "Number of tags: 747\n"
     ]
    }
   ],
   "source": [
    "spacy_token = []\n",
    "count = 0\n",
    "\n",
    "for sent in doc1.sents:\n",
    "  spacy_token.append(sent)\n",
    "  count+=1\n",
    "  \n",
    "print(\"Number of tags: \"+ str(count))"
   ]
  },
  {
   "cell_type": "code",
   "execution_count": 0,
   "metadata": {
    "colab": {
     "base_uri": "https://localhost:8080/",
     "height": 50
    },
    "colab_type": "code",
    "id": "Er0NT2uZJlp4",
    "outputId": "233baaad-3441-483b-81f0-66a6a281cd90"
   },
   "outputs": [
    {
     "name": "stdout",
     "output_type": "stream",
     "text": [
      "Chic. Blind Date.\n"
     ]
    },
    {
     "data": {
      "text/plain": [
       "0.5804782403849037"
      ]
     },
     "execution_count": 16,
     "metadata": {
      "tags": []
     },
     "output_type": "execute_result"
    }
   ],
   "source": [
    "print(spacy_token[0], spacy_token[1])\n",
    "spacy_token[0].similarity(spacy_token[1])"
   ]
  },
  {
   "cell_type": "code",
   "execution_count": 0,
   "metadata": {
    "colab": {},
    "colab_type": "code",
    "id": "jaF5uk6mKYVU"
   },
   "outputs": [],
   "source": [
    "similarity_dic = {}\n",
    "\n",
    "for i in range(len(spacy_token)):\n",
    "  token1 = spacy_token[i]\n",
    "  similarity_scores = []\n",
    "  \n",
    "  for j in range(len(spacy_token)):\n",
    "    token2 = spacy_token[j]\n",
    "    score = token1.similarity(token2)\n",
    "    similarity_scores.append(score)\n",
    "  \n",
    "  similarity_dic[str(token1)] = similarity_scores"
   ]
  },
  {
   "cell_type": "code",
   "execution_count": 0,
   "metadata": {
    "colab": {
     "base_uri": "https://localhost:8080/",
     "height": 34
    },
    "colab_type": "code",
    "id": "D8UK5uL2PPHY",
    "outputId": "247ffe69-6408-4475-8e9b-e500151d4cd3"
   },
   "outputs": [
    {
     "data": {
      "text/plain": [
       "(747, 747)"
      ]
     },
     "execution_count": 45,
     "metadata": {
      "tags": []
     },
     "output_type": "execute_result"
    }
   ],
   "source": [
    "similarity_df = pd.DataFrame.from_dict(similarity_dic, orient='index')\n",
    "column_names = similarity_dic.keys()\n",
    "similarity_df.columns = column_names\n",
    "print(similarity_df.shape)"
   ]
  },
  {
   "cell_type": "code",
   "execution_count": 0,
   "metadata": {
    "colab": {
     "base_uri": "https://localhost:8080/",
     "height": 476
    },
    "colab_type": "code",
    "id": "ORJUJq8lnllJ",
    "outputId": "92cfab6f-d690-4483-d696-5796bba2e4ce"
   },
   "outputs": [
    {
     "data": {
      "text/html": [
       "<div>\n",
       "<style scoped>\n",
       "    .dataframe tbody tr th:only-of-type {\n",
       "        vertical-align: middle;\n",
       "    }\n",
       "\n",
       "    .dataframe tbody tr th {\n",
       "        vertical-align: top;\n",
       "    }\n",
       "\n",
       "    .dataframe thead th {\n",
       "        text-align: right;\n",
       "    }\n",
       "</style>\n",
       "<table border=\"1\" class=\"dataframe\">\n",
       "  <thead>\n",
       "    <tr style=\"text-align: right;\">\n",
       "      <th></th>\n",
       "      <th>Chic.</th>\n",
       "      <th>Blind Date.</th>\n",
       "      <th>spring.</th>\n",
       "      <th>Bohemian.</th>\n",
       "      <th>Dinner Date.</th>\n",
       "      <th>Everyday.</th>\n",
       "      <th>Summer.</th>\n",
       "      <th>Androgynous.</th>\n",
       "      <th>Casual Party.</th>\n",
       "      <th>fall.</th>\n",
       "      <th>...</th>\n",
       "      <th>snickers.</th>\n",
       "      <th>baseball cap.</th>\n",
       "      <th>w-o the boots.</th>\n",
       "      <th>hippie.</th>\n",
       "      <th>tea dress.</th>\n",
       "      <th>leather bag.</th>\n",
       "      <th>quirky.</th>\n",
       "      <th>gatsby.</th>\n",
       "      <th>nice combo.</th>\n",
       "      <th>blue sneakers dress le.... crop top.</th>\n",
       "    </tr>\n",
       "  </thead>\n",
       "  <tbody>\n",
       "    <tr>\n",
       "      <th>Chic.</th>\n",
       "      <td>1.000000</td>\n",
       "      <td>0.580478</td>\n",
       "      <td>0.335163</td>\n",
       "      <td>0.654607</td>\n",
       "      <td>0.484479</td>\n",
       "      <td>0.380541</td>\n",
       "      <td>0.545060</td>\n",
       "      <td>0.598591</td>\n",
       "      <td>0.514622</td>\n",
       "      <td>0.337767</td>\n",
       "      <td>...</td>\n",
       "      <td>0.419467</td>\n",
       "      <td>0.217423</td>\n",
       "      <td>0.256799</td>\n",
       "      <td>0.510488</td>\n",
       "      <td>0.309808</td>\n",
       "      <td>0.209356</td>\n",
       "      <td>0.473172</td>\n",
       "      <td>0.507208</td>\n",
       "      <td>0.306378</td>\n",
       "      <td>0.370020</td>\n",
       "    </tr>\n",
       "    <tr>\n",
       "      <th>Blind Date.</th>\n",
       "      <td>0.580478</td>\n",
       "      <td>1.000000</td>\n",
       "      <td>0.521863</td>\n",
       "      <td>0.644053</td>\n",
       "      <td>0.744942</td>\n",
       "      <td>0.555672</td>\n",
       "      <td>0.597887</td>\n",
       "      <td>0.555069</td>\n",
       "      <td>0.667692</td>\n",
       "      <td>0.473366</td>\n",
       "      <td>...</td>\n",
       "      <td>0.390616</td>\n",
       "      <td>0.416708</td>\n",
       "      <td>0.378089</td>\n",
       "      <td>0.554111</td>\n",
       "      <td>0.485807</td>\n",
       "      <td>0.494092</td>\n",
       "      <td>0.480091</td>\n",
       "      <td>0.528959</td>\n",
       "      <td>0.484566</td>\n",
       "      <td>0.473366</td>\n",
       "    </tr>\n",
       "    <tr>\n",
       "      <th>spring.</th>\n",
       "      <td>0.335163</td>\n",
       "      <td>0.521863</td>\n",
       "      <td>1.000000</td>\n",
       "      <td>0.524792</td>\n",
       "      <td>0.502503</td>\n",
       "      <td>0.607430</td>\n",
       "      <td>0.652445</td>\n",
       "      <td>0.447529</td>\n",
       "      <td>0.409602</td>\n",
       "      <td>0.750933</td>\n",
       "      <td>...</td>\n",
       "      <td>0.361324</td>\n",
       "      <td>0.566238</td>\n",
       "      <td>0.394323</td>\n",
       "      <td>0.636587</td>\n",
       "      <td>0.536998</td>\n",
       "      <td>0.577260</td>\n",
       "      <td>0.522763</td>\n",
       "      <td>0.668069</td>\n",
       "      <td>0.543105</td>\n",
       "      <td>0.539744</td>\n",
       "    </tr>\n",
       "    <tr>\n",
       "      <th>Bohemian.</th>\n",
       "      <td>0.654607</td>\n",
       "      <td>0.644053</td>\n",
       "      <td>0.524792</td>\n",
       "      <td>1.000000</td>\n",
       "      <td>0.610712</td>\n",
       "      <td>0.696629</td>\n",
       "      <td>0.700867</td>\n",
       "      <td>0.768760</td>\n",
       "      <td>0.573616</td>\n",
       "      <td>0.525532</td>\n",
       "      <td>...</td>\n",
       "      <td>0.497166</td>\n",
       "      <td>0.402423</td>\n",
       "      <td>0.262842</td>\n",
       "      <td>0.565031</td>\n",
       "      <td>0.383341</td>\n",
       "      <td>0.376464</td>\n",
       "      <td>0.571034</td>\n",
       "      <td>0.518019</td>\n",
       "      <td>0.483987</td>\n",
       "      <td>0.422462</td>\n",
       "    </tr>\n",
       "    <tr>\n",
       "      <th>Dinner Date.</th>\n",
       "      <td>0.484479</td>\n",
       "      <td>0.744942</td>\n",
       "      <td>0.502503</td>\n",
       "      <td>0.610712</td>\n",
       "      <td>1.000000</td>\n",
       "      <td>0.605498</td>\n",
       "      <td>0.611421</td>\n",
       "      <td>0.457154</td>\n",
       "      <td>0.682885</td>\n",
       "      <td>0.456386</td>\n",
       "      <td>...</td>\n",
       "      <td>0.244915</td>\n",
       "      <td>0.470772</td>\n",
       "      <td>0.307536</td>\n",
       "      <td>0.407888</td>\n",
       "      <td>0.440095</td>\n",
       "      <td>0.428701</td>\n",
       "      <td>0.266793</td>\n",
       "      <td>0.466957</td>\n",
       "      <td>0.317886</td>\n",
       "      <td>0.316826</td>\n",
       "    </tr>\n",
       "    <tr>\n",
       "      <th>Everyday.</th>\n",
       "      <td>0.380541</td>\n",
       "      <td>0.555672</td>\n",
       "      <td>0.607430</td>\n",
       "      <td>0.696629</td>\n",
       "      <td>0.605498</td>\n",
       "      <td>1.000000</td>\n",
       "      <td>0.603718</td>\n",
       "      <td>0.604476</td>\n",
       "      <td>0.494586</td>\n",
       "      <td>0.520510</td>\n",
       "      <td>...</td>\n",
       "      <td>0.316744</td>\n",
       "      <td>0.290712</td>\n",
       "      <td>0.196344</td>\n",
       "      <td>0.531146</td>\n",
       "      <td>0.291246</td>\n",
       "      <td>0.380270</td>\n",
       "      <td>0.491781</td>\n",
       "      <td>0.423303</td>\n",
       "      <td>0.398524</td>\n",
       "      <td>0.298558</td>\n",
       "    </tr>\n",
       "    <tr>\n",
       "      <th>Summer.</th>\n",
       "      <td>0.545060</td>\n",
       "      <td>0.597887</td>\n",
       "      <td>0.652445</td>\n",
       "      <td>0.700867</td>\n",
       "      <td>0.611421</td>\n",
       "      <td>0.603718</td>\n",
       "      <td>1.000000</td>\n",
       "      <td>0.602737</td>\n",
       "      <td>0.451844</td>\n",
       "      <td>0.612506</td>\n",
       "      <td>...</td>\n",
       "      <td>0.505938</td>\n",
       "      <td>0.465445</td>\n",
       "      <td>0.294268</td>\n",
       "      <td>0.598346</td>\n",
       "      <td>0.465646</td>\n",
       "      <td>0.437753</td>\n",
       "      <td>0.490454</td>\n",
       "      <td>0.583463</td>\n",
       "      <td>0.471144</td>\n",
       "      <td>0.414503</td>\n",
       "    </tr>\n",
       "    <tr>\n",
       "      <th>Androgynous.</th>\n",
       "      <td>0.598591</td>\n",
       "      <td>0.555069</td>\n",
       "      <td>0.447529</td>\n",
       "      <td>0.768760</td>\n",
       "      <td>0.457154</td>\n",
       "      <td>0.604476</td>\n",
       "      <td>0.602737</td>\n",
       "      <td>1.000000</td>\n",
       "      <td>0.469154</td>\n",
       "      <td>0.421175</td>\n",
       "      <td>...</td>\n",
       "      <td>0.442105</td>\n",
       "      <td>0.241359</td>\n",
       "      <td>0.159680</td>\n",
       "      <td>0.472843</td>\n",
       "      <td>0.285282</td>\n",
       "      <td>0.276461</td>\n",
       "      <td>0.584707</td>\n",
       "      <td>0.426721</td>\n",
       "      <td>0.436455</td>\n",
       "      <td>0.387885</td>\n",
       "    </tr>\n",
       "    <tr>\n",
       "      <th>Casual Party.</th>\n",
       "      <td>0.514622</td>\n",
       "      <td>0.667692</td>\n",
       "      <td>0.409602</td>\n",
       "      <td>0.573616</td>\n",
       "      <td>0.682885</td>\n",
       "      <td>0.494586</td>\n",
       "      <td>0.451844</td>\n",
       "      <td>0.469154</td>\n",
       "      <td>1.000000</td>\n",
       "      <td>0.388344</td>\n",
       "      <td>...</td>\n",
       "      <td>0.221682</td>\n",
       "      <td>0.297683</td>\n",
       "      <td>0.244384</td>\n",
       "      <td>0.381996</td>\n",
       "      <td>0.357514</td>\n",
       "      <td>0.295628</td>\n",
       "      <td>0.313920</td>\n",
       "      <td>0.388585</td>\n",
       "      <td>0.293356</td>\n",
       "      <td>0.331685</td>\n",
       "    </tr>\n",
       "    <tr>\n",
       "      <th>fall.</th>\n",
       "      <td>0.337767</td>\n",
       "      <td>0.473366</td>\n",
       "      <td>0.750933</td>\n",
       "      <td>0.525532</td>\n",
       "      <td>0.456386</td>\n",
       "      <td>0.520510</td>\n",
       "      <td>0.612506</td>\n",
       "      <td>0.421175</td>\n",
       "      <td>0.388344</td>\n",
       "      <td>1.000000</td>\n",
       "      <td>...</td>\n",
       "      <td>0.434455</td>\n",
       "      <td>0.508376</td>\n",
       "      <td>0.444263</td>\n",
       "      <td>0.597898</td>\n",
       "      <td>0.452782</td>\n",
       "      <td>0.551412</td>\n",
       "      <td>0.467185</td>\n",
       "      <td>0.586472</td>\n",
       "      <td>0.468110</td>\n",
       "      <td>0.488113</td>\n",
       "    </tr>\n",
       "  </tbody>\n",
       "</table>\n",
       "<p>10 rows × 747 columns</p>\n",
       "</div>"
      ],
      "text/plain": [
       "                  Chic.  Blind Date.   spring.  Bohemian.  Dinner Date.  \\\n",
       "Chic.          1.000000     0.580478  0.335163   0.654607      0.484479   \n",
       "Blind Date.    0.580478     1.000000  0.521863   0.644053      0.744942   \n",
       "spring.        0.335163     0.521863  1.000000   0.524792      0.502503   \n",
       "Bohemian.      0.654607     0.644053  0.524792   1.000000      0.610712   \n",
       "Dinner Date.   0.484479     0.744942  0.502503   0.610712      1.000000   \n",
       "Everyday.      0.380541     0.555672  0.607430   0.696629      0.605498   \n",
       "Summer.        0.545060     0.597887  0.652445   0.700867      0.611421   \n",
       "Androgynous.   0.598591     0.555069  0.447529   0.768760      0.457154   \n",
       "Casual Party.  0.514622     0.667692  0.409602   0.573616      0.682885   \n",
       "fall.          0.337767     0.473366  0.750933   0.525532      0.456386   \n",
       "\n",
       "               Everyday.   Summer.  Androgynous.  Casual Party.     fall.  \\\n",
       "Chic.           0.380541  0.545060      0.598591       0.514622  0.337767   \n",
       "Blind Date.     0.555672  0.597887      0.555069       0.667692  0.473366   \n",
       "spring.         0.607430  0.652445      0.447529       0.409602  0.750933   \n",
       "Bohemian.       0.696629  0.700867      0.768760       0.573616  0.525532   \n",
       "Dinner Date.    0.605498  0.611421      0.457154       0.682885  0.456386   \n",
       "Everyday.       1.000000  0.603718      0.604476       0.494586  0.520510   \n",
       "Summer.         0.603718  1.000000      0.602737       0.451844  0.612506   \n",
       "Androgynous.    0.604476  0.602737      1.000000       0.469154  0.421175   \n",
       "Casual Party.   0.494586  0.451844      0.469154       1.000000  0.388344   \n",
       "fall.           0.520510  0.612506      0.421175       0.388344  1.000000   \n",
       "\n",
       "                               ...                   snickers.  baseball cap.  \\\n",
       "Chic.                          ...                    0.419467       0.217423   \n",
       "Blind Date.                    ...                    0.390616       0.416708   \n",
       "spring.                        ...                    0.361324       0.566238   \n",
       "Bohemian.                      ...                    0.497166       0.402423   \n",
       "Dinner Date.                   ...                    0.244915       0.470772   \n",
       "Everyday.                      ...                    0.316744       0.290712   \n",
       "Summer.                        ...                    0.505938       0.465445   \n",
       "Androgynous.                   ...                    0.442105       0.241359   \n",
       "Casual Party.                  ...                    0.221682       0.297683   \n",
       "fall.                          ...                    0.434455       0.508376   \n",
       "\n",
       "               w-o the boots.   hippie.  tea dress.  leather bag.   quirky.  \\\n",
       "Chic.                0.256799  0.510488    0.309808      0.209356  0.473172   \n",
       "Blind Date.          0.378089  0.554111    0.485807      0.494092  0.480091   \n",
       "spring.              0.394323  0.636587    0.536998      0.577260  0.522763   \n",
       "Bohemian.            0.262842  0.565031    0.383341      0.376464  0.571034   \n",
       "Dinner Date.         0.307536  0.407888    0.440095      0.428701  0.266793   \n",
       "Everyday.            0.196344  0.531146    0.291246      0.380270  0.491781   \n",
       "Summer.              0.294268  0.598346    0.465646      0.437753  0.490454   \n",
       "Androgynous.         0.159680  0.472843    0.285282      0.276461  0.584707   \n",
       "Casual Party.        0.244384  0.381996    0.357514      0.295628  0.313920   \n",
       "fall.                0.444263  0.597898    0.452782      0.551412  0.467185   \n",
       "\n",
       "                gatsby.  nice combo.  blue sneakers dress le.... crop top.  \n",
       "Chic.          0.507208     0.306378                              0.370020  \n",
       "Blind Date.    0.528959     0.484566                              0.473366  \n",
       "spring.        0.668069     0.543105                              0.539744  \n",
       "Bohemian.      0.518019     0.483987                              0.422462  \n",
       "Dinner Date.   0.466957     0.317886                              0.316826  \n",
       "Everyday.      0.423303     0.398524                              0.298558  \n",
       "Summer.        0.583463     0.471144                              0.414503  \n",
       "Androgynous.   0.426721     0.436455                              0.387885  \n",
       "Casual Party.  0.388585     0.293356                              0.331685  \n",
       "fall.          0.586472     0.468110                              0.488113  \n",
       "\n",
       "[10 rows x 747 columns]"
      ]
     },
     "execution_count": 48,
     "metadata": {
      "tags": []
     },
     "output_type": "execute_result"
    }
   ],
   "source": [
    "similarity_df.head(10)\n"
   ]
  },
  {
   "cell_type": "code",
   "execution_count": 0,
   "metadata": {
    "colab": {
     "base_uri": "https://localhost:8080/",
     "height": 134
    },
    "colab_type": "code",
    "id": "ZMhKC0s1kq5B",
    "outputId": "e6a25cad-ad22-473c-9c95-678843e7909c"
   },
   "outputs": [
    {
     "data": {
      "text/plain": [
       "Index(['Chic.', 'Blind Date.', 'spring.', 'Bohemian.', 'Dinner Date.',\n",
       "       'Everyday.', 'Summer.', 'Androgynous.', 'Casual Party.', 'fall.',\n",
       "       ...\n",
       "       'snickers.', 'baseball cap.', 'w-o the boots.', 'hippie.', 'tea dress.',\n",
       "       'leather bag.', 'quirky.', 'gatsby.', 'nice combo.',\n",
       "       'blue sneakers dress le.... crop top.'],\n",
       "      dtype='object', length=747)"
      ]
     },
     "execution_count": 43,
     "metadata": {
      "tags": []
     },
     "output_type": "execute_result"
    }
   ],
   "source": [
    "similarity_df.columns"
   ]
  },
  {
   "cell_type": "markdown",
   "metadata": {
    "colab_type": "text",
    "id": "Q_r6JUkYeJK3"
   },
   "source": [
    "NLP part END"
   ]
  },
  {
   "cell_type": "code",
   "execution_count": 0,
   "metadata": {
    "colab": {},
    "colab_type": "code",
    "id": "Uq4lZSMlQCju"
   },
   "outputs": [],
   "source": []
  },
  {
   "cell_type": "markdown",
   "metadata": {
    "colab_type": "text",
    "id": "94uiWgbZ6LH3"
   },
   "source": [
    "# The shitszzs"
   ]
  },
  {
   "cell_type": "code",
   "execution_count": 0,
   "metadata": {
    "colab": {},
    "colab_type": "code",
    "id": "fp_tCuciVbzR"
   },
   "outputs": [],
   "source": [
    "for i in range(len(tags)):\n",
    "  tag = tags[i]\n",
    "  try:\n",
    "    if not isinstance(eval(tag), list):\n",
    "      print(tag)\n",
    "  except:\n",
    "    print('Bad ' + str(i))"
   ]
  },
  {
   "cell_type": "code",
   "execution_count": 0,
   "metadata": {
    "colab": {
     "base_uri": "https://localhost:8080/",
     "height": 206
    },
    "colab_type": "code",
    "id": "eFbrEvuDgvEC",
    "outputId": "9a0be2ea-7451-4489-9665-0cfb4e109e91"
   },
   "outputs": [
    {
     "data": {
      "text/html": [
       "<div>\n",
       "<style scoped>\n",
       "    .dataframe tbody tr th:only-of-type {\n",
       "        vertical-align: middle;\n",
       "    }\n",
       "\n",
       "    .dataframe tbody tr th {\n",
       "        vertical-align: top;\n",
       "    }\n",
       "\n",
       "    .dataframe thead th {\n",
       "        text-align: right;\n",
       "    }\n",
       "</style>\n",
       "<table border=\"1\" class=\"dataframe\">\n",
       "  <thead>\n",
       "    <tr style=\"text-align: right;\">\n",
       "      <th></th>\n",
       "      <th>name</th>\n",
       "      <th>fans</th>\n",
       "      <th>fave</th>\n",
       "      <th>tags</th>\n",
       "      <th>vote</th>\n",
       "    </tr>\n",
       "  </thead>\n",
       "  <tbody>\n",
       "    <tr>\n",
       "      <th>0</th>\n",
       "      <td>1164104-Inner+Beauty-vipme-dress-vipme-bracele...</td>\n",
       "      <td>31856.0</td>\n",
       "      <td>57 favorites</td>\n",
       "      <td>[Chic, Blind Date, spring]</td>\n",
       "      <td>5.934894</td>\n",
       "    </tr>\n",
       "    <tr>\n",
       "      <th>1</th>\n",
       "      <td>1102069-Keep+her+wild-floral-gypsan-dress.jpg</td>\n",
       "      <td>170.0</td>\n",
       "      <td>71 favorites</td>\n",
       "      <td>[Bohemian, Dinner Date, spring]</td>\n",
       "      <td>5.932245</td>\n",
       "    </tr>\n",
       "    <tr>\n",
       "      <th>2</th>\n",
       "      <td>1113840-Black+maxi+dress-black-delacy-dress.jpg</td>\n",
       "      <td>640.0</td>\n",
       "      <td>50 favorites</td>\n",
       "      <td>[Bohemian, Everyday, Summer]</td>\n",
       "      <td>5.564520</td>\n",
       "    </tr>\n",
       "    <tr>\n",
       "      <th>3</th>\n",
       "      <td>1138091-Cos+I%E2%80%99m+Loving+It-white-shirt-...</td>\n",
       "      <td>569.0</td>\n",
       "      <td>65 favorites</td>\n",
       "      <td>[Androgynous, Casual Party, fall]</td>\n",
       "      <td>5.693732</td>\n",
       "    </tr>\n",
       "    <tr>\n",
       "      <th>4</th>\n",
       "      <td>1110854-Rock+and+Roll+Queen-black-leather-self...</td>\n",
       "      <td>29687.0</td>\n",
       "      <td>31 favorites</td>\n",
       "      <td>[Rocker, Clubbing, spring]</td>\n",
       "      <td>5.971262</td>\n",
       "    </tr>\n",
       "  </tbody>\n",
       "</table>\n",
       "</div>"
      ],
      "text/plain": [
       "                                                name     fans          fave  \\\n",
       "0  1164104-Inner+Beauty-vipme-dress-vipme-bracele...  31856.0  57 favorites   \n",
       "1      1102069-Keep+her+wild-floral-gypsan-dress.jpg    170.0  71 favorites   \n",
       "2    1113840-Black+maxi+dress-black-delacy-dress.jpg    640.0  50 favorites   \n",
       "3  1138091-Cos+I%E2%80%99m+Loving+It-white-shirt-...    569.0  65 favorites   \n",
       "4  1110854-Rock+and+Roll+Queen-black-leather-self...  29687.0  31 favorites   \n",
       "\n",
       "                                tags      vote  \n",
       "0         [Chic, Blind Date, spring]  5.934894  \n",
       "1    [Bohemian, Dinner Date, spring]  5.932245  \n",
       "2       [Bohemian, Everyday, Summer]  5.564520  \n",
       "3  [Androgynous, Casual Party, fall]  5.693732  \n",
       "4         [Rocker, Clubbing, spring]  5.971262  "
      ]
     },
     "execution_count": 28,
     "metadata": {
      "tags": []
     },
     "output_type": "execute_result"
    }
   ],
   "source": [
    "reference_df.head(5)"
   ]
  },
  {
   "cell_type": "code",
   "execution_count": 0,
   "metadata": {
    "colab": {},
    "colab_type": "code",
    "id": "z_3NcQtFeVzt"
   },
   "outputs": [],
   "source": [
    "tags_column = reference_df.tags.dropna().apply(lambda x:pd.Series(x)).stack().reset_index(level=1,drop=True)"
   ]
  },
  {
   "cell_type": "code",
   "execution_count": 0,
   "metadata": {
    "colab": {
     "base_uri": "https://localhost:8080/",
     "height": 446
    },
    "colab_type": "code",
    "id": "OKyppLUmOGPC",
    "outputId": "b00edb2b-bb48-48b1-c938-97d63c225fe1"
   },
   "outputs": [
    {
     "data": {
      "text/html": [
       "<div>\n",
       "<style scoped>\n",
       "    .dataframe tbody tr th:only-of-type {\n",
       "        vertical-align: middle;\n",
       "    }\n",
       "\n",
       "    .dataframe tbody tr th {\n",
       "        vertical-align: top;\n",
       "    }\n",
       "\n",
       "    .dataframe thead th {\n",
       "        text-align: right;\n",
       "    }\n",
       "</style>\n",
       "<table border=\"1\" class=\"dataframe\">\n",
       "  <thead>\n",
       "    <tr style=\"text-align: right;\">\n",
       "      <th></th>\n",
       "      <th>name</th>\n",
       "      <th>fans</th>\n",
       "      <th>fave</th>\n",
       "      <th>tags</th>\n",
       "      <th>vote</th>\n",
       "      <th>Everyday</th>\n",
       "      <th>summer</th>\n",
       "      <th>Chic</th>\n",
       "      <th>spring</th>\n",
       "      <th>fall</th>\n",
       "      <th>...</th>\n",
       "      <th>Business</th>\n",
       "      <th>nice</th>\n",
       "      <th>Sneaker</th>\n",
       "      <th>Bridal Shower</th>\n",
       "      <th>DIY</th>\n",
       "      <th>dresses</th>\n",
       "      <th>Sports</th>\n",
       "      <th>white</th>\n",
       "      <th>Wine Tasting</th>\n",
       "      <th>Baby Shower</th>\n",
       "    </tr>\n",
       "  </thead>\n",
       "  <tbody>\n",
       "    <tr>\n",
       "      <th>0</th>\n",
       "      <td>1164104-Inner+Beauty-vipme-dress-vipme-bracele...</td>\n",
       "      <td>31856.0</td>\n",
       "      <td>57 favorites</td>\n",
       "      <td>[Chic, Blind Date, spring]</td>\n",
       "      <td>5.934894</td>\n",
       "      <td>0.0</td>\n",
       "      <td>0.0</td>\n",
       "      <td>1.0</td>\n",
       "      <td>1.0</td>\n",
       "      <td>0.0</td>\n",
       "      <td>...</td>\n",
       "      <td>0.0</td>\n",
       "      <td>0.0</td>\n",
       "      <td>0.0</td>\n",
       "      <td>0.0</td>\n",
       "      <td>0.0</td>\n",
       "      <td>0.0</td>\n",
       "      <td>0.0</td>\n",
       "      <td>0.0</td>\n",
       "      <td>0.0</td>\n",
       "      <td>0.0</td>\n",
       "    </tr>\n",
       "    <tr>\n",
       "      <th>1</th>\n",
       "      <td>1102069-Keep+her+wild-floral-gypsan-dress.jpg</td>\n",
       "      <td>170.0</td>\n",
       "      <td>71 favorites</td>\n",
       "      <td>[Bohemian, Dinner Date, spring]</td>\n",
       "      <td>5.932245</td>\n",
       "      <td>0.0</td>\n",
       "      <td>0.0</td>\n",
       "      <td>0.0</td>\n",
       "      <td>1.0</td>\n",
       "      <td>0.0</td>\n",
       "      <td>...</td>\n",
       "      <td>0.0</td>\n",
       "      <td>0.0</td>\n",
       "      <td>0.0</td>\n",
       "      <td>0.0</td>\n",
       "      <td>0.0</td>\n",
       "      <td>0.0</td>\n",
       "      <td>0.0</td>\n",
       "      <td>0.0</td>\n",
       "      <td>0.0</td>\n",
       "      <td>0.0</td>\n",
       "    </tr>\n",
       "    <tr>\n",
       "      <th>2</th>\n",
       "      <td>1113840-Black+maxi+dress-black-delacy-dress.jpg</td>\n",
       "      <td>640.0</td>\n",
       "      <td>50 favorites</td>\n",
       "      <td>[Bohemian, Everyday, Summer]</td>\n",
       "      <td>5.564520</td>\n",
       "      <td>1.0</td>\n",
       "      <td>0.0</td>\n",
       "      <td>0.0</td>\n",
       "      <td>0.0</td>\n",
       "      <td>0.0</td>\n",
       "      <td>...</td>\n",
       "      <td>0.0</td>\n",
       "      <td>0.0</td>\n",
       "      <td>0.0</td>\n",
       "      <td>0.0</td>\n",
       "      <td>0.0</td>\n",
       "      <td>0.0</td>\n",
       "      <td>0.0</td>\n",
       "      <td>0.0</td>\n",
       "      <td>0.0</td>\n",
       "      <td>0.0</td>\n",
       "    </tr>\n",
       "    <tr>\n",
       "      <th>3</th>\n",
       "      <td>1138091-Cos+I%E2%80%99m+Loving+It-white-shirt-...</td>\n",
       "      <td>569.0</td>\n",
       "      <td>65 favorites</td>\n",
       "      <td>[Androgynous, Casual Party, fall]</td>\n",
       "      <td>5.693732</td>\n",
       "      <td>0.0</td>\n",
       "      <td>0.0</td>\n",
       "      <td>0.0</td>\n",
       "      <td>0.0</td>\n",
       "      <td>1.0</td>\n",
       "      <td>...</td>\n",
       "      <td>0.0</td>\n",
       "      <td>0.0</td>\n",
       "      <td>0.0</td>\n",
       "      <td>0.0</td>\n",
       "      <td>0.0</td>\n",
       "      <td>0.0</td>\n",
       "      <td>0.0</td>\n",
       "      <td>0.0</td>\n",
       "      <td>0.0</td>\n",
       "      <td>0.0</td>\n",
       "    </tr>\n",
       "    <tr>\n",
       "      <th>4</th>\n",
       "      <td>1110854-Rock+and+Roll+Queen-black-leather-self...</td>\n",
       "      <td>29687.0</td>\n",
       "      <td>31 favorites</td>\n",
       "      <td>[Rocker, Clubbing, spring]</td>\n",
       "      <td>5.971262</td>\n",
       "      <td>0.0</td>\n",
       "      <td>0.0</td>\n",
       "      <td>0.0</td>\n",
       "      <td>1.0</td>\n",
       "      <td>0.0</td>\n",
       "      <td>...</td>\n",
       "      <td>0.0</td>\n",
       "      <td>0.0</td>\n",
       "      <td>0.0</td>\n",
       "      <td>0.0</td>\n",
       "      <td>0.0</td>\n",
       "      <td>0.0</td>\n",
       "      <td>0.0</td>\n",
       "      <td>0.0</td>\n",
       "      <td>0.0</td>\n",
       "      <td>0.0</td>\n",
       "    </tr>\n",
       "  </tbody>\n",
       "</table>\n",
       "<p>5 rows × 93 columns</p>\n",
       "</div>"
      ],
      "text/plain": [
       "                                                name     fans          fave  \\\n",
       "0  1164104-Inner+Beauty-vipme-dress-vipme-bracele...  31856.0  57 favorites   \n",
       "1      1102069-Keep+her+wild-floral-gypsan-dress.jpg    170.0  71 favorites   \n",
       "2    1113840-Black+maxi+dress-black-delacy-dress.jpg    640.0  50 favorites   \n",
       "3  1138091-Cos+I%E2%80%99m+Loving+It-white-shirt-...    569.0  65 favorites   \n",
       "4  1110854-Rock+and+Roll+Queen-black-leather-self...  29687.0  31 favorites   \n",
       "\n",
       "                                tags      vote  Everyday  summer  Chic  \\\n",
       "0         [Chic, Blind Date, spring]  5.934894       0.0     0.0   1.0   \n",
       "1    [Bohemian, Dinner Date, spring]  5.932245       0.0     0.0   0.0   \n",
       "2       [Bohemian, Everyday, Summer]  5.564520       1.0     0.0   0.0   \n",
       "3  [Androgynous, Casual Party, fall]  5.693732       0.0     0.0   0.0   \n",
       "4         [Rocker, Clubbing, spring]  5.971262       0.0     0.0   0.0   \n",
       "\n",
       "   spring  fall     ...       Business  nice  Sneaker  Bridal Shower  DIY  \\\n",
       "0     1.0   0.0     ...            0.0   0.0      0.0            0.0  0.0   \n",
       "1     1.0   0.0     ...            0.0   0.0      0.0            0.0  0.0   \n",
       "2     0.0   0.0     ...            0.0   0.0      0.0            0.0  0.0   \n",
       "3     0.0   1.0     ...            0.0   0.0      0.0            0.0  0.0   \n",
       "4     1.0   0.0     ...            0.0   0.0      0.0            0.0  0.0   \n",
       "\n",
       "   dresses  Sports  white  Wine Tasting  Baby Shower  \n",
       "0      0.0     0.0    0.0           0.0          0.0  \n",
       "1      0.0     0.0    0.0           0.0          0.0  \n",
       "2      0.0     0.0    0.0           0.0          0.0  \n",
       "3      0.0     0.0    0.0           0.0          0.0  \n",
       "4      0.0     0.0    0.0           0.0          0.0  \n",
       "\n",
       "[5 rows x 93 columns]"
      ]
     },
     "execution_count": 36,
     "metadata": {
      "tags": []
     },
     "output_type": "execute_result"
    }
   ],
   "source": [
    "#Making the tags as individual columns\n",
    "\n",
    "df_out = reference_df.assign(**pd.get_dummies(tags_column)[tags_to_keep].sum(level=0)) #https://stackoverflow.com/questions/45312377/how-to-one-hot-encode-from-a-pandas-column-containing-a-list\n",
    "df_out.head(5)"
   ]
  },
  {
   "cell_type": "code",
   "execution_count": 0,
   "metadata": {
    "colab": {},
    "colab_type": "code",
    "id": "JTOTEl-MQYH6"
   },
   "outputs": [],
   "source": [
    "df_out.columns.values"
   ]
  },
  {
   "cell_type": "code",
   "execution_count": 0,
   "metadata": {
    "colab": {
     "base_uri": "https://localhost:8080/",
     "height": 34
    },
    "colab_type": "code",
    "id": "Yr7qEPTFTh9S",
    "outputId": "ef327ebd-a9fc-45a1-b6d8-5909c5aa9557"
   },
   "outputs": [
    {
     "data": {
      "text/plain": [
       "(10000, 805)"
      ]
     },
     "execution_count": 28,
     "metadata": {
      "tags": []
     },
     "output_type": "execute_result"
    }
   ],
   "source": [
    "df_out.shape"
   ]
  },
  {
   "cell_type": "code",
   "execution_count": 0,
   "metadata": {
    "colab": {
     "base_uri": "https://localhost:8080/",
     "height": 319
    },
    "colab_type": "code",
    "id": "OtYaH9bWRpvR",
    "outputId": "c48cbd90-6ec3-4493-99f7-8be29ed26e99"
   },
   "outputs": [
    {
     "name": "stdout",
     "output_type": "stream",
     "text": [
      "Collecting kmodes\n",
      "  Downloading https://files.pythonhosted.org/packages/1a/d5/54e0efa2ddf33234761f8c35471f4a2280bb4cef44fd39fa08f1e663946a/kmodes-0.9-py2.py3-none-any.whl\n",
      "Collecting scikit-learn<0.20.0,>=0.19.0 (from kmodes)\n",
      "\u001b[?25l  Downloading https://files.pythonhosted.org/packages/f9/c8/8db4108aba5e2166cd2ea4eafa1a4b82f89240a1fa85733029cc2358ad1f/scikit_learn-0.19.2-cp36-cp36m-manylinux1_x86_64.whl (4.9MB)\n",
      "\u001b[K    100% |████████████████████████████████| 4.9MB 6.7MB/s \n",
      "\u001b[?25hRequirement already satisfied: numpy>=1.10.4 in /usr/local/lib/python3.6/dist-packages (from kmodes) (1.14.6)\n",
      "Requirement already satisfied: scipy>=0.13.3 in /usr/local/lib/python3.6/dist-packages (from kmodes) (1.1.0)\n",
      "\u001b[31myellowbrick 0.9.1 has requirement scikit-learn>=0.20, but you'll have scikit-learn 0.19.2 which is incompatible.\u001b[0m\n",
      "\u001b[31mimbalanced-learn 0.4.3 has requirement scikit-learn>=0.20, but you'll have scikit-learn 0.19.2 which is incompatible.\u001b[0m\n",
      "Installing collected packages: scikit-learn, kmodes\n",
      "  Found existing installation: scikit-learn 0.20.3\n",
      "    Uninstalling scikit-learn-0.20.3:\n",
      "      Successfully uninstalled scikit-learn-0.20.3\n",
      "Successfully installed kmodes-0.9 scikit-learn-0.19.2\n",
      "Requirement already up-to-date: kmodes in /usr/local/lib/python3.6/dist-packages (0.9)\n",
      "Requirement already satisfied, skipping upgrade: scikit-learn<0.20.0,>=0.19.0 in /usr/local/lib/python3.6/dist-packages (from kmodes) (0.19.2)\n",
      "Requirement already satisfied, skipping upgrade: numpy>=1.10.4 in /usr/local/lib/python3.6/dist-packages (from kmodes) (1.14.6)\n",
      "Requirement already satisfied, skipping upgrade: scipy>=0.13.3 in /usr/local/lib/python3.6/dist-packages (from kmodes) (1.1.0)\n"
     ]
    }
   ],
   "source": [
    "!pip install kmodes\n",
    "!pip install --upgrade kmodes"
   ]
  },
  {
   "cell_type": "code",
   "execution_count": 0,
   "metadata": {
    "colab": {},
    "colab_type": "code",
    "id": "mTNPi8pBQ5I6"
   },
   "outputs": [],
   "source": [
    "from kmodes.kmodes import KModes"
   ]
  },
  {
   "cell_type": "code",
   "execution_count": 0,
   "metadata": {
    "colab": {
     "base_uri": "https://localhost:8080/",
     "height": 178
    },
    "colab_type": "code",
    "id": "_VIYGAIZaZx2",
    "outputId": "988b9e52-4b01-466b-f5a6-6aac1827a076"
   },
   "outputs": [
    {
     "ename": "NameError",
     "evalue": "ignored",
     "output_type": "error",
     "traceback": [
      "\u001b[0;31m---------------------------------------------------------------------------\u001b[0m",
      "\u001b[0;31mNameError\u001b[0m                                 Traceback (most recent call last)",
      "\u001b[0;32m<ipython-input-12-60359425be20>\u001b[0m in \u001b[0;36m<module>\u001b[0;34m()\u001b[0m\n\u001b[0;32m----> 1\u001b[0;31m \u001b[0mdf_features\u001b[0m \u001b[0;34m=\u001b[0m \u001b[0mdf_out\u001b[0m\u001b[0;34m.\u001b[0m\u001b[0miloc\u001b[0m\u001b[0;34m[\u001b[0m\u001b[0;34m:\u001b[0m\u001b[0;34m,\u001b[0m\u001b[0;36m5\u001b[0m\u001b[0;34m:\u001b[0m\u001b[0;34m]\u001b[0m\u001b[0;34m\u001b[0m\u001b[0;34m\u001b[0m\u001b[0m\n\u001b[0m\u001b[1;32m      2\u001b[0m \u001b[0mdf_features\u001b[0m\u001b[0;34m.\u001b[0m\u001b[0mshape\u001b[0m\u001b[0;34m\u001b[0m\u001b[0;34m\u001b[0m\u001b[0m\n",
      "\u001b[0;31mNameError\u001b[0m: name 'df_out' is not defined"
     ]
    }
   ],
   "source": [
    "df_features = df_out.iloc[:,5:]\n",
    "df_features.shape"
   ]
  },
  {
   "cell_type": "code",
   "execution_count": 0,
   "metadata": {
    "colab": {
     "base_uri": "https://localhost:8080/",
     "height": 178
    },
    "colab_type": "code",
    "id": "IGJPmgtUhfEv",
    "outputId": "a924c76f-4fc9-4fdb-9c9b-1ac9108f4b61"
   },
   "outputs": [
    {
     "ename": "NameError",
     "evalue": "ignored",
     "output_type": "error",
     "traceback": [
      "\u001b[0;31m---------------------------------------------------------------------------\u001b[0m",
      "\u001b[0;31mNameError\u001b[0m                                 Traceback (most recent call last)",
      "\u001b[0;32m<ipython-input-14-d2ad1db71906>\u001b[0m in \u001b[0;36m<module>\u001b[0;34m()\u001b[0m\n\u001b[0;32m----> 1\u001b[0;31m \u001b[0mdf_features_array\u001b[0m \u001b[0;34m=\u001b[0m \u001b[0mdf_features\u001b[0m\u001b[0;34m.\u001b[0m\u001b[0mdropna\u001b[0m\u001b[0;34m(\u001b[0m\u001b[0;34m)\u001b[0m\u001b[0;34m.\u001b[0m\u001b[0mvalues\u001b[0m \u001b[0;31m# 18 pictures have no tags\u001b[0m\u001b[0;34m\u001b[0m\u001b[0;34m\u001b[0m\u001b[0m\n\u001b[0m\u001b[1;32m      2\u001b[0m \u001b[0mdf_features_array\u001b[0m\u001b[0;34m.\u001b[0m\u001b[0mshape\u001b[0m\u001b[0;34m\u001b[0m\u001b[0;34m\u001b[0m\u001b[0m\n",
      "\u001b[0;31mNameError\u001b[0m: name 'df_features' is not defined"
     ]
    }
   ],
   "source": [
    "df_features_array = df_features.dropna().values # 18 pictures have no tags\n",
    "df_features_array.shape"
   ]
  },
  {
   "cell_type": "code",
   "execution_count": 0,
   "metadata": {
    "colab": {},
    "colab_type": "code",
    "id": "dc-Zb6h6hW8j"
   },
   "outputs": [],
   "source": [
    "for i in range(4,8):\n",
    "  km = KModes(n_clusters=i, init='Huang', n_init=20, verbose=0) #https://stackoverflow.com/questions/41827660/reveal-k-modes-cluster-features\n",
    "  clusters = km.fit_predict(df_features_array)\n",
    "  score = silhouette_score(df_features_array, clusters, metric='euclidean', random_state=12345)\n",
    "  print('For {} clusters, the score is {}'.format(i, score))"
   ]
  },
  {
   "cell_type": "code",
   "execution_count": 0,
   "metadata": {
    "colab": {},
    "colab_type": "code",
    "id": "RnfeteBViVjF"
   },
   "outputs": [],
   "source": [
    "km = KModes(n_clusters=5, init='Huang', n_init=20, verbose=0) #https://stackoverflow.com/questions/41827660/reveal-k-modes-cluster-features\n",
    "clusters = km.fit_predict(df_features_array)"
   ]
  },
  {
   "cell_type": "code",
   "execution_count": 0,
   "metadata": {
    "colab": {
     "base_uri": "https://localhost:8080/",
     "height": 35
    },
    "colab_type": "code",
    "id": "_BcdHK-WdE17",
    "outputId": "61ad5690-776a-4506-d8e1-ee2cd2f6418f"
   },
   "outputs": [
    {
     "data": {
      "text/plain": [
       "(9982,)"
      ]
     },
     "execution_count": 56,
     "metadata": {
      "tags": []
     },
     "output_type": "execute_result"
    }
   ],
   "source": [
    "clusters.shape"
   ]
  },
  {
   "cell_type": "code",
   "execution_count": 0,
   "metadata": {
    "colab": {},
    "colab_type": "code",
    "id": "fXXiqJN2dGiL"
   },
   "outputs": [],
   "source": [
    "results = pd.DataFrame(df_features_array, columns=df_features.columns)\n",
    "results['cluster'] = clusters"
   ]
  },
  {
   "cell_type": "code",
   "execution_count": 0,
   "metadata": {
    "colab": {
     "base_uri": "https://localhost:8080/",
     "height": 126
    },
    "colab_type": "code",
    "id": "hcE2AcfOlpXZ",
    "outputId": "ac1d76f7-c621-48e9-efe8-8b613c80293c"
   },
   "outputs": [
    {
     "data": {
      "text/plain": [
       "3    2868\n",
       "4    2217\n",
       "2    2007\n",
       "1    1501\n",
       "0    1389\n",
       "Name: cluster, dtype: int64"
      ]
     },
     "execution_count": 58,
     "metadata": {
      "tags": []
     },
     "output_type": "execute_result"
    }
   ],
   "source": [
    "results.cluster.value_counts()"
   ]
  },
  {
   "cell_type": "code",
   "execution_count": 0,
   "metadata": {
    "colab": {},
    "colab_type": "code",
    "id": "_aevh_qAlxxX"
   },
   "outputs": [],
   "source": [
    "top_cluster_tags = [results.drop(columns=['cluster'])\\\n",
    "                            .columns[results.drop(columns=['cluster'])\\\n",
    "                                              [results.cluster == i].sum() > 100]\n",
    "                    for i in range(5)]"
   ]
  },
  {
   "cell_type": "code",
   "execution_count": 0,
   "metadata": {
    "colab": {
     "base_uri": "https://localhost:8080/",
     "height": 90
    },
    "colab_type": "code",
    "id": "Ajb9guvu0M13",
    "outputId": "18df8d57-82a1-4f2b-fb66-432d2f1a2982"
   },
   "outputs": [
    {
     "data": {
      "text/plain": [
       "[Index(['Everyday', 'Chic', 'Casual', 'Elegant'], dtype='object'),\n",
       " Index(['Everyday', 'Chic', 'Casual', 'Dinner Date'], dtype='object'),\n",
       " Index(['Everyday', 'Chic', 'Casual', 'Elegant', 'Dinner Date'], dtype='object'),\n",
       " Index(['Everyday', 'Chic', 'Casual', 'Elegant', 'Dinner Date'], dtype='object')]"
      ]
     },
     "execution_count": 76,
     "metadata": {
      "tags": []
     },
     "output_type": "execute_result"
    }
   ],
   "source": [
    "[top_cluster_tags[0][top_cluster_tags[0].isin(top_cluster_tags[i])] for i in range(1,5)]"
   ]
  },
  {
   "cell_type": "code",
   "execution_count": 0,
   "metadata": {
    "colab": {},
    "colab_type": "code",
    "id": "INN_ZL2E4VQo"
   },
   "outputs": [],
   "source": [
    "results_ = df_features.drop(columns=['Everyday', 'Chic', 'Casual']).dropna()"
   ]
  },
  {
   "cell_type": "code",
   "execution_count": 0,
   "metadata": {
    "colab": {},
    "colab_type": "code",
    "id": "-sgJqQmDglTA"
   },
   "outputs": [],
   "source": [
    "from sklearn.metrics import silhouette_score"
   ]
  },
  {
   "cell_type": "code",
   "execution_count": 0,
   "metadata": {
    "colab": {
     "base_uri": "https://localhost:8080/",
     "height": 35
    },
    "colab_type": "code",
    "id": "sv31SoaM15E3",
    "outputId": "adc2e67b-b069-4f10-eba4-9c911e41aed9"
   },
   "outputs": [
    {
     "name": "stdout",
     "output_type": "stream",
     "text": [
      "For 5 clusters, the score is 0.26837145703213633\n"
     ]
    }
   ],
   "source": [
    "# drop everyday, chic, casual\n",
    "km = KModes(n_clusters=5, init='Huang', n_init=20, verbose=0) #https://stackoverflow.com/questions/41827660/reveal-k-modes-cluster-features\n",
    "clusters = km.fit_predict(results_.values)\n",
    "score = silhouette_score(results_.values, clusters, metric='euclidean', random_state=12345)\n",
    "print('For {} clusters, the score is {}'.format(5, score))"
   ]
  },
  {
   "cell_type": "code",
   "execution_count": 0,
   "metadata": {
    "colab": {
     "base_uri": "https://localhost:8080/",
     "height": 126
    },
    "colab_type": "code",
    "id": "JYC-LYYv3EOg",
    "outputId": "6031dce4-b127-40d2-db67-74797e2f7c99"
   },
   "outputs": [
    {
     "data": {
      "text/plain": [
       "2    2868\n",
       "3    2218\n",
       "1    2009\n",
       "0    1501\n",
       "4    1386\n",
       "dtype: int64"
      ]
     },
     "execution_count": 199,
     "metadata": {
      "tags": []
     },
     "output_type": "execute_result"
    }
   ],
   "source": [
    "pd.Series(clusters).value_counts()"
   ]
  },
  {
   "cell_type": "code",
   "execution_count": 0,
   "metadata": {
    "colab": {
     "base_uri": "https://localhost:8080/",
     "height": 90
    },
    "colab_type": "code",
    "id": "yKHduX7w4WiD",
    "outputId": "02a09cbb-743a-4268-cd57-d0f34fb4f824"
   },
   "outputs": [
    {
     "data": {
      "text/plain": [
       "[Index(['Classic'], dtype='object'),\n",
       " Index(['Elegant', 'Classic'], dtype='object'),\n",
       " Index(['Elegant', 'Classic'], dtype='object'),\n",
       " Index(['Elegant'], dtype='object')]"
      ]
     },
     "execution_count": 201,
     "metadata": {
      "tags": []
     },
     "output_type": "execute_result"
    }
   ],
   "source": [
    "top_cluster_tags_ = [results_.columns[results_.loc[results_.index[pd.Series(clusters) == i]].sum() > 100] for i in range(5)]\n",
    "[top_cluster_tags_[0][top_cluster_tags_[0].isin(top_cluster_tags_[i])] for i in range(1,5)]"
   ]
  },
  {
   "cell_type": "code",
   "execution_count": 0,
   "metadata": {
    "colab": {},
    "colab_type": "code",
    "id": "Qr79CcNXUUrJ"
   },
   "outputs": [],
   "source": [
    "import matplotlib.pyplot as plt\n",
    "from mpl_toolkits.mplot3d import Axes3D\n",
    "from sklearn.decomposition import PCA\n",
    "pca = PCA(3)"
   ]
  },
  {
   "cell_type": "code",
   "execution_count": 0,
   "metadata": {
    "colab": {
     "base_uri": "https://localhost:8080/",
     "height": 520
    },
    "colab_type": "code",
    "id": "ZjrLPi0GCsus",
    "outputId": "3eafd2a8-d83b-4060-a275-7d60faef13d6"
   },
   "outputs": [
    {
     "data": {
      "image/png": "[encoded data removed]",
      "text/plain": [
       "<Figure size 864x648 with 1 Axes>"
      ]
     },
     "metadata": {
      "tags": []
     },
     "output_type": "display_data"
    }
   ],
   "source": [
    "fig = plt.figure(figsize=(12, 9))\n",
    "ax = fig.add_subplot(111, projection='3d')\n",
    "plot_columns = pca.fit_transform(results_)\n",
    "ax.scatter(plot_columns[:,1],\n",
    "           plot_columns[:,0],\n",
    "           plot_columns[:,2],\n",
    "           s=20, c=pd.Series(clusters), cmap=plt.cm.nipy_spectral,\n",
    "           depthshade=True)\n",
    "#fig = plt.figure(1, figsize=(12, 9))\n",
    "#plt.clf()\n",
    "#ax = Axes3D(fig, rect=[0, 0, 0.95, 1], elev=48, azim=134)\n",
    "# Turn the dummified df into two columns with PCA\n",
    "\n",
    "\n",
    "# Plot based on the two dimensions, and shade by cluster label\n",
    "plt.show()\n",
    "\n",
    "# This will give the mode of each variable for each cluster\n",
    "#km.cluster_centroids_"
   ]
  },
  {
   "cell_type": "code",
   "execution_count": 0,
   "metadata": {
    "colab": {
     "base_uri": "https://localhost:8080/",
     "height": 35
    },
    "colab_type": "code",
    "id": "oLeYTgaOAfd9",
    "outputId": "d2d30220-83e2-42bd-953c-590d0655bd25"
   },
   "outputs": [
    {
     "data": {
      "text/plain": [
       "0.6535639322244966"
      ]
     },
     "execution_count": 204,
     "metadata": {
      "tags": []
     },
     "output_type": "execute_result"
    }
   ],
   "source": [
    "np.sum(pca.explained_variance_) # TOH"
   ]
  },
  {
   "cell_type": "code",
   "execution_count": 0,
   "metadata": {
    "colab": {
     "base_uri": "https://localhost:8080/",
     "height": 35
    },
    "colab_type": "code",
    "id": "i-c_QeU1Ag6P",
    "outputId": "701b1de2-38b3-4f00-fdcf-430264f7cd69"
   },
   "outputs": [
    {
     "data": {
      "text/plain": [
       "0"
      ]
     },
     "execution_count": 205,
     "metadata": {
      "tags": []
     },
     "output_type": "execute_result"
    }
   ],
   "source": [
    "(results_.sum(axis=1) == 0).sum() # After dropping Everyday, Chic, Casual, there are still tags for every row"
   ]
  },
  {
   "cell_type": "code",
   "execution_count": 0,
   "metadata": {
    "colab": {},
    "colab_type": "code",
    "id": "lpbvmdetGBTx"
   },
   "outputs": [],
   "source": [
    "style_map = dict(pd.Series(clusters).value_counts().items())\n",
    "reference_df = reference_df.dropna(subset=['tags']).reset_index(drop=True)"
   ]
  },
  {
   "cell_type": "code",
   "execution_count": 0,
   "metadata": {
    "colab": {},
    "colab_type": "code",
    "id": "bj-7oCj7JNrc"
   },
   "outputs": [],
   "source": [
    "reference_df['style_factor'] = pd.Series(map(lambda x: style_map[x], clusters)).apply(np.log1p)"
   ]
  },
  {
   "cell_type": "code",
   "execution_count": 0,
   "metadata": {
    "colab": {},
    "colab_type": "code",
    "id": "6kxU9BVVIFlo"
   },
   "outputs": [],
   "source": [
    "reference_df['favorites'] = reference_df.fave.str.split(' ').apply(lambda x: x[0]).astype(int).apply(np.log1p)"
   ]
  },
  {
   "cell_type": "code",
   "execution_count": 0,
   "metadata": {
    "colab": {},
    "colab_type": "code",
    "id": "8XdnkTgCHWjz"
   },
   "outputs": [],
   "source": [
    "reference_df['fans'] = reference_df.fans.apply(np.log1p)"
   ]
  },
  {
   "cell_type": "code",
   "execution_count": 0,
   "metadata": {
    "colab": {},
    "colab_type": "code",
    "id": "ogPNam2PJysm"
   },
   "outputs": [],
   "source": [
    "from sklearn.preprocessing import scale"
   ]
  },
  {
   "cell_type": "code",
   "execution_count": 0,
   "metadata": {
    "colab": {
     "base_uri": "https://localhost:8080/",
     "height": 362
    },
    "colab_type": "code",
    "id": "-74ERLqFPJO8",
    "outputId": "5ce743bc-1d01-4869-ac05-9b0515d33bb3"
   },
   "outputs": [
    {
     "data": {
      "image/png": "[encoded data removed]",
      "text/plain": [
       "<Figure size 576x396 with 4 Axes>"
      ]
     },
     "metadata": {
      "tags": []
     },
     "output_type": "display_data"
    }
   ],
   "source": [
    "reference_df[['fans', 'vote', 'style_factor', 'favorites']].hist();"
   ]
  },
  {
   "cell_type": "code",
   "execution_count": 0,
   "metadata": {
    "colab": {},
    "colab_type": "code",
    "id": "FXJArLfXPXSt"
   },
   "outputs": [],
   "source": [
    "reference_df['popularity'] = ((reference_df.vote + reference_df.style_factor + reference_df.favorites) / (reference_df.fans+1)).apply(np.log)"
   ]
  },
  {
   "cell_type": "code",
   "execution_count": 0,
   "metadata": {
    "colab": {
     "base_uri": "https://localhost:8080/",
     "height": 347
    },
    "colab_type": "code",
    "id": "9WetMEoaQoL2",
    "outputId": "cb310a75-3f25-4a4b-8005-e21e2d6344fd"
   },
   "outputs": [
    {
     "data": {
      "image/png": "[encoded data removed]",
      "text/plain": [
       "<Figure size 576x396 with 1 Axes>"
      ]
     },
     "metadata": {
      "tags": []
     },
     "output_type": "display_data"
    }
   ],
   "source": [
    "reference_df.popularity.hist(bins=50); # pretty normal, good for linear regression"
   ]
  },
  {
   "cell_type": "code",
   "execution_count": 0,
   "metadata": {
    "colab": {},
    "colab_type": "code",
    "id": "uh4prKkBQ1dy"
   },
   "outputs": [],
   "source": [
    "reference_df.to_csv('./drive/My Drive/BT4222/preprocessed_df_for_cnn.csv')"
   ]
  },
  {
   "cell_type": "code",
   "execution_count": 0,
   "metadata": {
    "colab": {},
    "colab_type": "code",
    "id": "7VtKTVmjRCQR"
   },
   "outputs": [],
   "source": []
  },
  {
   "cell_type": "markdown",
   "metadata": {
    "colab_type": "text",
    "id": "uW7NaS1vUl-Y"
   },
   "source": [
    "# CNN Training"
   ]
  },
  {
   "cell_type": "code",
   "execution_count": 6,
   "metadata": {},
   "outputs": [],
   "source": [
    "import os"
   ]
  },
  {
   "cell_type": "code",
   "execution_count": 16,
   "metadata": {},
   "outputs": [],
   "source": [
    "df = pd.read_csv('./combine_10.csv', index_col=0)\n",
    "orig = pd.read_csv('./dress_info_0to10k.csv')\n",
    "cropped = os.listdir('./cropped/')\n",
    "\n",
    "df.index = orig.name.apply(lambda x: x+'.jpg')\n",
    "df = df[df.index.isin(cropped)]\n",
    "tags_column = df['0'].apply(eval).apply(lambda x:pd.Series(x)).stack().reset_index(level=1,drop=True)\n",
    "final = pd.get_dummies(tags_column).sum(level=0)"
   ]
  },
  {
   "cell_type": "code",
   "execution_count": 19,
   "metadata": {},
   "outputs": [],
   "source": [
    "final = final.reset_index()"
   ]
  },
  {
   "cell_type": "code",
   "execution_count": 25,
   "metadata": {},
   "outputs": [],
   "source": [
    "y_col = final.drop(columns=['name']).columns.tolist()\n",
    "x_col = 'name'"
   ]
  },
  {
   "cell_type": "markdown",
   "metadata": {},
   "source": [
    "Resize cropped images"
   ]
  },
  {
   "cell_type": "code",
   "execution_count": 18,
   "metadata": {},
   "outputs": [],
   "source": [
    "for f in cropped:\n",
    "    img = cv2.imread('cropped/'+f)\n",
    "    img = cv2.resize(img, (150, 500))\n",
    "    cv2.imwrite('resized/'+f, img)"
   ]
  },
  {
   "cell_type": "code",
   "execution_count": 26,
   "metadata": {
    "colab": {},
    "colab_type": "code",
    "id": "pJ03UW4hsdOl"
   },
   "outputs": [],
   "source": [
    "img_size = (150, 500)\n",
    "train_data_dir = 'resized/'\n",
    "batch_size = 16 # mini-batch training\n",
    "\n",
    "# stream input images for training and validation\n",
    "train_datagen = ImageDataGenerator(\n",
    "    rescale = 1./255, # shouldn't change, to improve convergence by converting pixel scale to 0-1\n",
    "    # the below parameters applies some random transformations to training images\n",
    "    horizontal_flip = True,\n",
    "    rotation_range=10,\n",
    "    fill_mode = \"nearest\",\n",
    "    zoom_range = 0.1,\n",
    "    height_shift_range = 0.1,\n",
    "    validation_split = 0.1 # use 10% (i.e. 1k images) for validation\n",
    ")"
   ]
  },
  {
   "cell_type": "code",
   "execution_count": 27,
   "metadata": {
    "colab": {
     "base_uri": "https://localhost:8080/",
     "height": 53
    },
    "colab_type": "code",
    "id": "_ijT4K8soa5J",
    "outputId": "29532ede-76e2-4c4c-ffc5-a5d1d7d255f6"
   },
   "outputs": [
    {
     "name": "stdout",
     "output_type": "stream",
     "text": [
      "Found 8646 images.\n",
      "Found 960 images.\n"
     ]
    }
   ],
   "source": [
    "train_generator = train_datagen.flow_from_dataframe(\n",
    "    final,\n",
    "    directory = train_data_dir,\n",
    "    x_col = x_col, y_col = y_col,\n",
    "    target_size = img_size,\n",
    "    batch_size = batch_size, \n",
    "    class_mode = \"other\",\n",
    "    subset = 'training',\n",
    "    seed = 12345\n",
    ")\n",
    "\n",
    "validation_generator = train_datagen.flow_from_dataframe(\n",
    "    final,\n",
    "    directory = train_data_dir,\n",
    "    x_col = x_col, y_col = y_col,\n",
    "    target_size = img_size,\n",
    "    batch_size = batch_size,\n",
    "    class_mode = \"other\",\n",
    "    subset = 'validation',\n",
    "    seed = 12345,\n",
    ")"
   ]
  },
  {
   "cell_type": "code",
   "execution_count": 31,
   "metadata": {},
   "outputs": [],
   "source": [
    "del model # just in case"
   ]
  },
  {
   "cell_type": "code",
   "execution_count": 32,
   "metadata": {
    "colab": {},
    "colab_type": "code",
    "id": "-KYC3ijrtyGX"
   },
   "outputs": [],
   "source": [
    "model = Sequential()\n",
    "# model.add(BatchNormalization(input_shape=(299, 299, 3))) # normalize images values for better convergence\n",
    "model.add(Conv2D(32, (3, 3), activation='relu', input_shape=(150, 500, 3)))\n",
    "model.add(MaxPooling2D(pool_size=(2, 2)))\n",
    "\n",
    "model.add(Conv2D(48, (3, 3), activation='relu'))\n",
    "model.add(MaxPooling2D(pool_size=(2, 2)))\n",
    "\n",
    "model.add(Conv2D(64, (3, 3), activation='relu'))\n",
    "model.add(MaxPooling2D(pool_size=(2, 2)))\n",
    "\n",
    "# model.add(Conv2D(64, (5, 5), activation='relu'))\n",
    "# model.add(MaxPooling2D()) # reduces the number of training parameters, but reduces accuracy\n",
    "\n",
    "model.add(Flatten())  # this converts our 3D feature maps to 1D feature vector\n",
    "model.add(Dense(256, activation='relu'))\n",
    "# model.add(Dropout(0.25))\n",
    "model.add(Dense(256, activation='relu'))\n",
    "\n",
    "model.add(Dense(len(y_col), activation='sigmoid')) \n",
    "\n",
    "model.compile(loss='binary_crossentropy',\n",
    "              optimizer=optimizers.Adam(),\n",
    "              metrics=['accuracy'])"
   ]
  },
  {
   "cell_type": "code",
   "execution_count": 33,
   "metadata": {
    "colab": {
     "base_uri": "https://localhost:8080/",
     "height": 544
    },
    "colab_type": "code",
    "id": "V3B-XKQST7i9",
    "outputId": "647292cb-8b3c-4680-fe09-a9826daab0c6"
   },
   "outputs": [
    {
     "name": "stdout",
     "output_type": "stream",
     "text": [
      "_________________________________________________________________\n",
      "Layer (type)                 Output Shape              Param #   \n",
      "=================================================================\n",
      "conv2d_4 (Conv2D)            (None, 148, 498, 32)      896       \n",
      "_________________________________________________________________\n",
      "max_pooling2d_4 (MaxPooling2 (None, 74, 249, 32)       0         \n",
      "_________________________________________________________________\n",
      "conv2d_5 (Conv2D)            (None, 72, 247, 48)       13872     \n",
      "_________________________________________________________________\n",
      "max_pooling2d_5 (MaxPooling2 (None, 36, 123, 48)       0         \n",
      "_________________________________________________________________\n",
      "conv2d_6 (Conv2D)            (None, 34, 121, 64)       27712     \n",
      "_________________________________________________________________\n",
      "max_pooling2d_6 (MaxPooling2 (None, 17, 60, 64)        0         \n",
      "_________________________________________________________________\n",
      "flatten_2 (Flatten)          (None, 65280)             0         \n",
      "_________________________________________________________________\n",
      "dense_4 (Dense)              (None, 256)               16711936  \n",
      "_________________________________________________________________\n",
      "dense_5 (Dense)              (None, 256)               65792     \n",
      "_________________________________________________________________\n",
      "dense_6 (Dense)              (None, 94)                24158     \n",
      "=================================================================\n",
      "Total params: 16,844,366\n",
      "Trainable params: 16,844,366\n",
      "Non-trainable params: 0\n",
      "_________________________________________________________________\n"
     ]
    }
   ],
   "source": [
    "model.summary()"
   ]
  },
  {
   "cell_type": "code",
   "execution_count": 34,
   "metadata": {
    "colab": {
     "base_uri": "https://localhost:8080/",
     "height": 53
    },
    "colab_type": "code",
    "id": "BJ0EeqejuaS7",
    "outputId": "c0f5fb5b-8304-4f1e-c305-6a0da9588013",
    "scrolled": true
   },
   "outputs": [
    {
     "name": "stdout",
     "output_type": "stream",
     "text": [
      "Epoch 1/25\n",
      "540/540 [==============================] - 437s 810ms/step - loss: 0.1094 - acc: 0.9670 - val_loss: 0.1113 - val_acc: 0.9641\n",
      "\n",
      "Epoch 00001: val_acc improved from -inf to 0.96405, saving model to ./baseline_cnn_cropped_3layer.h5\n",
      "Epoch 2/25\n",
      "540/540 [==============================] - 320s 592ms/step - loss: 0.1047 - acc: 0.9689 - val_loss: 0.1083 - val_acc: 0.9657\n",
      "\n",
      "Epoch 00002: val_acc improved from 0.96405 to 0.96566, saving model to ./baseline_cnn_cropped_3layer.h5\n",
      "Epoch 3/25\n",
      "540/540 [==============================] - 318s 589ms/step - loss: 0.1041 - acc: 0.9690 - val_loss: 0.1085 - val_acc: 0.9680\n",
      "\n",
      "Epoch 00003: val_acc improved from 0.96566 to 0.96802, saving model to ./baseline_cnn_cropped_3layer.h5\n",
      "Epoch 4/25\n",
      "540/540 [==============================] - 319s 591ms/step - loss: 0.1038 - acc: 0.9689 - val_loss: 0.1097 - val_acc: 0.9657\n",
      "\n",
      "Epoch 00004: val_acc did not improve from 0.96802\n",
      "Epoch 5/25\n",
      "540/540 [==============================] - 337s 624ms/step - loss: 0.1033 - acc: 0.9691 - val_loss: 0.1096 - val_acc: 0.9647\n",
      "\n",
      "Epoch 00005: val_acc did not improve from 0.96802\n",
      "Epoch 6/25\n",
      "540/540 [==============================] - 317s 588ms/step - loss: 0.1032 - acc: 0.9691 - val_loss: 0.1088 - val_acc: 0.9653\n",
      "\n",
      "Epoch 00006: val_acc did not improve from 0.96802\n",
      "Epoch 7/25\n",
      "540/540 [==============================] - 317s 587ms/step - loss: 0.1026 - acc: 0.9692 - val_loss: 0.1088 - val_acc: 0.9658\n",
      "\n",
      "Epoch 00007: val_acc did not improve from 0.96802\n",
      "Epoch 8/25\n",
      "540/540 [==============================] - 317s 587ms/step - loss: 0.1026 - acc: 0.9691 - val_loss: 0.1100 - val_acc: 0.9656\n",
      "\n",
      "Epoch 00008: val_acc did not improve from 0.96802\n",
      "Epoch 9/25\n",
      "540/540 [==============================] - 317s 587ms/step - loss: 0.1022 - acc: 0.9692 - val_loss: 0.1071 - val_acc: 0.9658\n",
      "\n",
      "Epoch 00009: val_acc did not improve from 0.96802\n",
      "Epoch 10/25\n",
      "540/540 [==============================] - 317s 586ms/step - loss: 0.1018 - acc: 0.9693 - val_loss: 0.1086 - val_acc: 0.9660\n",
      "\n",
      "Epoch 00010: val_acc did not improve from 0.96802\n",
      "Epoch 11/25\n",
      "540/540 [==============================] - 318s 588ms/step - loss: 0.1014 - acc: 0.9693 - val_loss: 0.1110 - val_acc: 0.9657\n",
      "\n",
      "Epoch 00011: val_acc did not improve from 0.96802\n",
      "Epoch 12/25\n",
      "540/540 [==============================] - 317s 587ms/step - loss: 0.1009 - acc: 0.9693 - val_loss: 0.1094 - val_acc: 0.9651\n",
      "\n",
      "Epoch 00012: val_acc did not improve from 0.96802\n",
      "Epoch 13/25\n",
      "540/540 [==============================] - 316s 585ms/step - loss: 0.1006 - acc: 0.9694 - val_loss: 0.1093 - val_acc: 0.9648\n",
      "\n",
      "Epoch 00013: val_acc did not improve from 0.96802\n",
      "Epoch 00013: early stopping\n"
     ]
    }
   ],
   "source": [
    "# Save the model according to the conditions  \n",
    "checkpoint = ModelCheckpoint(\"./baseline_cnn_cropped_3layer.h5\", \n",
    "                             monitor='val_acc', \n",
    "                             verbose=1, \n",
    "                             save_best_only=True,\n",
    "                             save_weights_only=False,\n",
    "                             mode='auto',\n",
    "                             period=1)\n",
    "early = EarlyStopping(monitor='val_acc', \n",
    "                      min_delta=0,\n",
    "                      patience=10,\n",
    "                      verbose=1,\n",
    "                      mode='auto')\n",
    "\n",
    "# Train the model \n",
    "history = model.fit_generator(\n",
    "    train_generator,\n",
    "    steps_per_epoch = train_generator.samples // train_generator.batch_size,\n",
    "    epochs = 25,\n",
    "    callbacks = [checkpoint, early],\n",
    "    validation_data = validation_generator,\n",
    "    validation_steps = validation_generator.samples // validation_generator.batch_size,\n",
    ")"
   ]
  },
  {
   "cell_type": "code",
   "execution_count": 47,
   "metadata": {
    "colab": {},
    "colab_type": "code",
    "id": "7AQZkDxXWIuR"
   },
   "outputs": [],
   "source": [
    "from sklearn.metrics import classification_report, precision_recall_curve, auc, precision_score"
   ]
  },
  {
   "cell_type": "code",
   "execution_count": 37,
   "metadata": {},
   "outputs": [],
   "source": [
    "val_preds = model.predict_generator(validation_generator,\n",
    "                                    steps = validation_generator.samples // validation_generator.batch_size)"
   ]
  },
  {
   "cell_type": "code",
   "execution_count": 42,
   "metadata": {},
   "outputs": [
    {
     "data": {
      "text/plain": [
       "array([[0, 0, 0, ..., 0, 0, 0],\n",
       "       [0, 0, 0, ..., 0, 0, 0],\n",
       "       [0, 0, 0, ..., 0, 0, 0],\n",
       "       ...,\n",
       "       [0, 0, 0, ..., 0, 0, 0],\n",
       "       [1, 0, 0, ..., 0, 0, 0],\n",
       "       [0, 0, 1, ..., 0, 0, 0]], dtype=uint8)"
      ]
     },
     "execution_count": 42,
     "metadata": {},
     "output_type": "execute_result"
    }
   ],
   "source": [
    "validation_generator.data"
   ]
  },
  {
   "cell_type": "code",
   "execution_count": 46,
   "metadata": {},
   "outputs": [
    {
     "name": "stdout",
     "output_type": "stream",
     "text": [
      "                        precision    recall  f1-score   support\n",
      "\n",
      "                   50s       0.00      0.00      0.00         8\n",
      "                   60s       0.00      0.00      0.00        17\n",
      "                   70s       0.00      0.00      0.00         7\n",
      "                   80s       0.00      0.00      0.00         5\n",
      "                   90s       0.00      0.00      0.00        10\n",
      "     None_of_the_above       0.00      0.00      0.00         0\n",
      "        amusement park       0.00      0.00      0.00        10\n",
      "           androgynous       0.00      0.00      0.00         3\n",
      "           anniversary       0.00      0.00      0.00        14\n",
      "           art opening       0.00      0.00      0.00        16\n",
      "           baby shower       0.00      0.00      0.00         3\n",
      "    bachelorette party       0.00      0.00      0.00         1\n",
      "                 basic       0.00      0.00      0.00        14\n",
      "             bbq party       0.00      0.00      0.00         5\n",
      "                 beach       0.00      0.00      0.00        18\n",
      "              birthday       0.00      0.00      0.00        20\n",
      "            blind date       0.00      0.00      0.00        12\n",
      "              bohemian       0.00      0.00      0.00        89\n",
      "         bridal shower       0.00      0.00      0.00         2\n",
      "                brunch       0.00      0.00      0.00        60\n",
      "              business       0.00      0.00      0.00         2\n",
      "       business casual       0.00      0.00      0.00         5\n",
      "                casual       0.00      0.00      0.00        86\n",
      "          casual party       0.00      0.00      0.00        46\n",
      "                  chic       0.34      0.13      0.18       268\n",
      "               classic       0.00      0.00      0.00        54\n",
      "              clubbing       0.00      0.00      0.00        11\n",
      "              cocktail       0.00      0.00      0.00        44\n",
      "           comfortable       0.00      0.00      0.00        33\n",
      "         company event       0.00      0.00      0.00         6\n",
      "            conference       0.00      0.00      0.00         2\n",
      "                 denim       0.00      0.00      0.00         4\n",
      "           dinner date       0.00      0.00      0.00        59\n",
      "          dinner party       0.00      0.00      0.00        25\n",
      "                   diy       0.00      0.00      0.00         3\n",
      "              eclectic       0.00      0.00      0.00        19\n",
      "               elegant       0.00      0.00      0.00        76\n",
      "              everyday       0.00      0.00      0.00       270\n",
      "                  fall       0.00      0.00      0.00        38\n",
      "       farmer's market       0.00      0.00      0.00         2\n",
      "          fashion show       0.00      0.00      0.00        25\n",
      "            first date       0.00      0.00      0.00         6\n",
      "                formal       0.00      0.00      0.00        12\n",
      "       girls night out       0.00      0.00      0.00        13\n",
      "going out with friends       0.00      0.00      0.00        31\n",
      "                  goth       0.00      0.00      0.00         5\n",
      "            graduation       0.00      0.00      0.00         1\n",
      "               grandma       0.00      0.00      0.00         0\n",
      "                hiking       0.00      0.00      0.00         1\n",
      "                hippie       0.00      0.00      0.00         5\n",
      "         holiday party       0.00      0.00      0.00         8\n",
      "               leather       0.00      0.00      0.00        13\n",
      "            lunch date       0.00      0.00      0.00        38\n",
      "             maternity       0.00      0.00      0.00         1\n",
      "                modest       0.00      0.00      0.00         1\n",
      "           movie night       0.00      0.00      0.00         4\n",
      "         museum outing       0.00      0.00      0.00         6\n",
      "         music concert       0.00      0.00      0.00        16\n",
      "               natural       0.00      0.00      0.00         6\n",
      "                 other       0.00      0.00      0.00        33\n",
      "               outdoor       0.00      0.00      0.00         6\n",
      "           photo shoot       0.00      0.00      0.00        18\n",
      "                picnic       0.00      0.00      0.00        19\n",
      "            pool party       0.00      0.00      0.00         2\n",
      "                preppy       0.00      0.00      0.00        11\n",
      "                  prom       0.00      0.00      0.00        12\n",
      "                  punk       0.00      0.00      0.00         2\n",
      "                 retro       0.00      0.00      0.00        11\n",
      "                rocker       0.00      0.00      0.00        11\n",
      "              romantic       0.00      0.00      0.00        53\n",
      "       romantic dinner       0.00      0.00      0.00        13\n",
      "                runway       0.00      0.00      0.00         2\n",
      "                school       0.00      0.00      0.00        11\n",
      "                  sexy       0.00      0.00      0.00         9\n",
      "              shopping       0.00      0.00      0.00         8\n",
      "         shopping date       0.00      0.00      0.00         5\n",
      "               sneaker       0.00      0.00      0.00         3\n",
      "                sports       0.00      0.00      0.00         5\n",
      "                spring       0.00      0.00      0.00       658\n",
      "                summer       0.22      0.53      0.31       232\n",
      "              the fair       0.00      0.00      0.00         0\n",
      "theatre/opera/symphony       0.00      0.00      0.00         5\n",
      "             traveling       0.00      0.00      0.00        10\n",
      "                trendy       0.00      0.00      0.00        40\n",
      "                 urban       0.00      0.00      0.00        22\n",
      "              vacation       0.00      0.00      0.00         3\n",
      "       valentine's day       0.00      0.00      0.00         1\n",
      "               vintage       0.00      0.00      0.00        46\n",
      "       walking the dog       0.00      0.00      0.00         3\n",
      "               wedding       0.00      0.00      0.00        10\n",
      "          wine tasting       0.00      0.00      0.00         0\n",
      "                winter       0.00      0.00      0.00        29\n",
      "                  work       0.00      0.00      0.00        26\n",
      "       work happy hour       0.00      0.00      0.00         3\n",
      "\n",
      "             micro avg       0.24      0.05      0.09      2881\n",
      "             macro avg       0.01      0.01      0.01      2881\n",
      "          weighted avg       0.05      0.05      0.04      2881\n",
      "           samples avg       0.14      0.05      0.08      2881\n",
      "\n"
     ]
    },
    {
     "name": "stderr",
     "output_type": "stream",
     "text": [
      "C:\\Users\\Hong Jie\\Anaconda3\\envs\\dl_gpu\\lib\\site-packages\\sklearn\\metrics\\classification.py:1143: UndefinedMetricWarning: Precision and F-score are ill-defined and being set to 0.0 in labels with no predicted samples.\n",
      "  'precision', 'predicted', average, warn_for)\n",
      "C:\\Users\\Hong Jie\\Anaconda3\\envs\\dl_gpu\\lib\\site-packages\\sklearn\\metrics\\classification.py:1145: UndefinedMetricWarning: Recall and F-score are ill-defined and being set to 0.0 in labels with no true samples.\n",
      "  'recall', 'true', average, warn_for)\n",
      "C:\\Users\\Hong Jie\\Anaconda3\\envs\\dl_gpu\\lib\\site-packages\\sklearn\\metrics\\classification.py:1143: UndefinedMetricWarning: Precision and F-score are ill-defined and being set to 0.0 in samples with no predicted labels.\n",
      "  'precision', 'predicted', average, warn_for)\n"
     ]
    }
   ],
   "source": [
    "print(classification_report(validation_generator.data, val_preds >= 0.5, \n",
    "                            target_names=y_col))"
   ]
  },
  {
   "cell_type": "code",
   "execution_count": 53,
   "metadata": {},
   "outputs": [
    {
     "data": {
      "text/plain": [
       "0.23932926829268292"
      ]
     },
     "execution_count": 53,
     "metadata": {},
     "output_type": "execute_result"
    }
   ],
   "source": [
    "precision_score(validation_generator.data, val_preds >= 0.5, average='micro')"
   ]
  }
 ],
 "metadata": {
  "accelerator": "GPU",
  "colab": {
   "collapsed_sections": [],
   "name": "Training_image_classifier.ipynb",
   "provenance": [],
   "version": "0.3.2"
  },
  "kernelspec": {
   "display_name": "Python [conda env:dl_gpu]",
   "language": "python",
   "name": "conda-env-dl_gpu-py"
  },
  "language_info": {
   "codemirror_mode": {
    "name": "ipython",
    "version": 3
   },
   "file_extension": ".py",
   "mimetype": "text/x-python",
   "name": "python",
   "nbconvert_exporter": "python",
   "pygments_lexer": "ipython3",
   "version": "3.5.6"
  }
 },
 "nbformat": 4,
 "nbformat_minor": 1
}
